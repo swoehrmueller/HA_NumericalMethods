{
 "cells": [
  {
   "cell_type": "markdown",
   "metadata": {},
   "source": [
    "# Density discretization (Lottery method)\n",
    "\n",
    "#### Load packages"
   ]
  },
  {
   "cell_type": "code",
   "execution_count": 15,
   "metadata": {},
   "outputs": [],
   "source": [
    "using Parameters\n",
    "using Setfield\n",
    "using Interpolations\n",
    "using Plots"
   ]
  },
  {
   "cell_type": "markdown",
   "metadata": {},
   "source": [
    "#### Set up structures"
   ]
  },
  {
   "cell_type": "code",
   "execution_count": 16,
   "metadata": {},
   "outputs": [
    {
     "data": {
      "text/plain": [
       "Grids"
      ]
     },
     "metadata": {},
     "output_type": "display_data"
    }
   ],
   "source": [
    "@with_kw struct ModelParameters{T} # Economic Variables\n",
    "    β :: T = 0.95\n",
    "    γ :: T = 2.0\n",
    "    ρ :: T = 0.95\n",
    "    σ2 :: T = 0.02\n",
    "end \n",
    "\n",
    "@with_kw struct NumericalParameters # Numerical Variables\n",
    "    na   :: Int = 200 # asset grid\n",
    "    amin :: Float64 = 0.0 \n",
    "    amax :: Float64 = 50.0 \n",
    "    ny   :: Int = 5 # income grid\n",
    "    tol_pol :: Float64 = 1e-7\n",
    "    tol_density :: Float64 = 1e-10\n",
    "end\n",
    "\n",
    "# Load it already here, as it is needed below\n",
    "n_par= NumericalParameters()\n",
    "\n",
    "@with_kw struct ContainerHA{T} # T= Array{Float64,1}\n",
    "    A  :: T  = zeros(n_par.na, n_par.ny) # policy function assets\n",
    "    C  :: T  = zeros(n_par.na, n_par.ny) # policy function consumption\n",
    "end\n",
    "\n",
    "@with_kw struct Grids\n",
    "    gridA :: Array{Float64,1} = zeros(n_par.na)\n",
    "    Π :: Array{Float64,2} = zeros(n_par.ny, n_par.ny)       # transition matrix income\n",
    "    gridY :: Array{Float64,1} = zeros(n_par.ny)   # income grid\n",
    "end"
   ]
  },
  {
   "cell_type": "markdown",
   "metadata": {},
   "source": [
    "#### Discretization"
   ]
  },
  {
   "cell_type": "code",
   "execution_count": 17,
   "metadata": {},
   "outputs": [
    {
     "data": {
      "text/plain": [
       "Rouwenhorst_AR1 (generic function with 1 method)"
      ]
     },
     "metadata": {},
     "output_type": "display_data"
    }
   ],
   "source": [
    "function Rouwenhorst_AR1(ρ, σ2, N)\n",
    "\n",
    "    p= (1+ρ)/2\n",
    "    q= (1+ρ)/2\n",
    "    \n",
    "    # Construct Markov Chain recursively\n",
    "    if N ==2\n",
    "        tm= [p 1-p; 1-q q]\n",
    "    elseif N>2\n",
    "        tm= [p 1-p; 1-q q]\n",
    "        for i in 2:N-1\n",
    "            tm= p .* hcat( vcat(tm, zeros(1,i)), zeros(i+1,1) ) + \n",
    "            (1-p) .* hcat( zeros(i+1,1), vcat(tm, zeros(1,i)) ) +\n",
    "            (1-q) .* hcat( vcat(zeros(1,i), tm), zeros(i+1,1) ) +\n",
    "                q .* hcat( zeros(i+1,1), vcat(zeros(1,i), tm) )\n",
    "            \n",
    "            tm[2:end-1,:]= tm[2:end-1,:]./2 # divide all but the first and last row by two\n",
    "        end\n",
    "    else\n",
    "        println(\"The number of grid points needs to be larger than two\")\n",
    "    end\n",
    "    \n",
    "    # Create state vector - here M is basically sqrt(iN-1)\n",
    "    ψ= sqrt((σ2 / (1 - ρ^2))) * sqrt(N - 1)\n",
    "    state= LinRange(-ψ, ψ, N)\n",
    "\n",
    "    return state, tm\n",
    "\n",
    "end # end Rouwenhorst_AR1 function"
   ]
  },
  {
   "cell_type": "markdown",
   "metadata": {},
   "source": [
    "#### EGM"
   ]
  },
  {
   "cell_type": "code",
   "execution_count": 18,
   "metadata": {},
   "outputs": [
    {
     "data": {
      "text/plain": [
       "egm (generic function with 1 method)"
      ]
     },
     "metadata": {},
     "output_type": "display_data"
    }
   ],
   "source": [
    "function egm(r, rprime, w, m_par::ModelParameters, n_par::NumericalParameters, grids::Grids, gV_conHA::ContainerHA)\n",
    "\n",
    "    # Unpack\n",
    "    @unpack_ModelParameters m_par\n",
    "    @unpack_NumericalParameters n_par\n",
    "    @unpack_Grids grids\n",
    "    @unpack_ContainerHA gV_conHA\n",
    "\n",
    "    Ai= copy(A)\n",
    "    difference= 1000.0\n",
    "    it=0\n",
    "    Uc= zeros(na,ny)\n",
    "\n",
    "    while difference > tol_pol && it < 1000\n",
    "\n",
    "        for y in 1:ny\n",
    "            Uc[:,y]= ( (1+rprime)*gridA .+ w*gridY[y] .- A[:,y] ).^(-γ)\n",
    "        end\n",
    "        EUc= Uc * Π' # expectation (* is matrix multiplication)\n",
    "        RHS= β * (1+r) .* EUc # RHS of Euler\n",
    "        for y in 1:ny\n",
    "            Cendog= RHS[:,y].^(-1/γ)\n",
    "            Aendog= (gridA .+ Cendog .- w*gridY[y]) ./ (1 + r)\n",
    "            itp= LinearInterpolation(Aendog, gridA, extrapolation_bc=Line())\n",
    "            Ai[:,y]= itp.(gridA)\n",
    "        end        \n",
    "        Ai[Ai.<=amin] .= amin # set borrowing constraint\n",
    "        difference= maximum(abs.(A .- Ai))\n",
    "        A= copy(Ai)\n",
    "\n",
    "        it= it+1\n",
    "\n",
    "    end \n",
    "\n",
    "    # Asset policy function\n",
    "    for y in 1:ny\n",
    "        C[:,y]= (1+r).*gridA .+ w*gridY[y] .- A[:,y]\n",
    "    end\n",
    "\n",
    "    gV_conHA= ContainerHA(A=A, C=C)\n",
    "\n",
    "    println(\"Finished EGM in iteration = \", it, \", and diff = \", difference)\n",
    "\n",
    "    return gV_conHA\n",
    "\n",
    "end"
   ]
  },
  {
   "cell_type": "markdown",
   "metadata": {},
   "source": [
    "## Density discretization\n",
    "\n",
    "Let's assume we solved for the policy functions via the EGM method. We now want to compute/approximate the invariant distribution over assets. \n",
    "\n",
    "Denote the asset policy function by $g(a,y)$. Denote the invariant density function we want to approximate by $\\lambda(a,y)$. We will approximate this density by a pdf defined over a discretized version of the state space.\n",
    "\n",
    "- Create an initial guess for the density. For instance a uniform one. \n",
    "\n",
    "- For every $(a_k, y_j)$ on the grid compute \n",
    "\\begin{align*}\n",
    "\\lambda^1(a_k,y_j) &= \\sum_{y_i} \\Gamma(y_j|y_i) \\sum_{m \\in \\mathcal{M}_i} \\frac{a_{k+1} - g(a_m,y_i)}{a_{k+1} - a_k} \\lambda^0(a_m, y_i) \\\\\n",
    "\\lambda^1(a_{k+1},y_j) &= \\sum_{y_i} \\Gamma(y_j|y_i) \\sum_{m \\in \\mathcal{M}_i} \\frac{g(a_m,y_i) - a_k}{a_{k+1} - a_k} \\lambda^0(a_m, y_i),\n",
    "\\end{align*}\n",
    "where $\\mathcal{M} = \\{ m= 1,...,N | a_k \\leq g(a_m,y_i) \\leq a_{k+1} \\}$; that is for every $y_i$, it is the set of all asset policies that are bracketed by the grid points $a_k$ and $a_{k+1}$. \n",
    "\n",
    "- Iterate on the above until convergence. \n",
    "\n",
    "The discretization above essentially entails agents playing a lottery. For an agent with policy $a' = g(a_m, y_i) \\in [a_k, a_{k+1}]$, she is going with probability $\\frac{a_{k+1} - g(a_m,y_i)}{a_{k+1} - a_k}$ to gridpoint $a_k$ and with probability $\\frac{g(a_m,y_i) - a_k}{a_{k+1} - a_k}$ she is going to gridpoint $a_{k+1}$. For instance, if an agent's asset policy is exactly in the middle between two gridpoints, she will go to either with equal probability. The mass of agents of type $i$ that play the same lottery is given by $\\lambda^0(a_m, y_i)$. Summing over all types $i$ gives the total mass that moves to $\\lambda(a_k,y_j)$ and $\\lambda(a_{k+1},y_j)$, respectively.  \n",
    "\n",
    "Note: In the code below, I call the fractions above \"weight\" and \"1-weight\", and the combination of fraction and mass of agents \"lottery\". \n",
    "\n",
    "Having computed the density compute aggregate assets as\n",
    "\\begin{align}\n",
    " A = \\sum_{y} \\sum_{a} a \\lambda(a,y)\n",
    "\\end{align}\n",
    "\n"
   ]
  },
  {
   "cell_type": "code",
   "execution_count": 19,
   "metadata": {},
   "outputs": [
    {
     "data": {
      "text/plain": [
       "density_discretization (generic function with 1 method)"
      ]
     },
     "metadata": {},
     "output_type": "display_data"
    }
   ],
   "source": [
    "function density_discretization(gV_conHA::ContainerHA, grids::Grids, n_par::NumericalParameters,A_dist)\n",
    "\n",
    "    # Unpack\n",
    "    @unpack_NumericalParameters n_par\n",
    "    @unpack_Grids grids\n",
    "    \n",
    "    # retrieve indices and weights for lottery\n",
    "    A_indices= zeros(Int, na, ny) \n",
    "    wei= zeros(Float64,na,ny) \n",
    "\n",
    "    for y in 1:ny\n",
    "        # Indices\n",
    "        A_indices[:,y] = searchsortedlast.(Ref(gridA), gV_conHA.A[:,y])  # gives left bracket; 0 if below grid, na if above grid\n",
    "    end\n",
    "    A_indices[A_indices .== 0] .= 1\n",
    "    A_indices[A_indices .== na] .= na-1\n",
    "    for y in 1:ny\n",
    "        wei[:,y]= (gV_conHA.A[:,y] .- [gridA[i] for i in A_indices[:,y]]) ./ ([gridA[i+1] for i in A_indices[:,y]] .- [gridA[i] for i in A_indices[:,y]])\n",
    "    end\n",
    "    # should never be binding, but just to be save\n",
    "    wei[wei.>1] .=1\n",
    "    wei[wei.<0] .=0\n",
    "\n",
    "\n",
    "    \n",
    "    difference= 100.0\n",
    "    it=1\n",
    "    # iterate over discretized density to get fixed point\n",
    "    while difference > tol_density && it < 10000\n",
    "    \n",
    "        # always pre-allocate to zero\n",
    "        A_disti= zeros(Float64,na,ny) \n",
    "\n",
    "        for i in 1:na\n",
    "            for s in 1:ny\n",
    "                index= A_indices[i,s]\n",
    "                lottery1= (1-wei[i,s]) * A_dist[i,s]\n",
    "                lottery2= wei[i,s]* A_dist[i,s]\n",
    "                for si in 1:ny\n",
    "                    A_disti[index,si] += lottery1 * Π[s,si]\n",
    "                    A_disti[index + 1,si] += lottery2 * Π[s,si] \n",
    "                end\n",
    "            end\n",
    "        end\n",
    "\n",
    "        difference= maximum(abs.(A_disti .- A_dist))\n",
    "        A_dist= A_disti ./ sum(A_disti)\n",
    "        it= it+1\n",
    "\n",
    "    end\n",
    "\n",
    "    it == 10000 ? println(\"density_discretization did not converge\") : Nothing\n",
    "\n",
    "    return A_dist\n",
    "\n",
    "end"
   ]
  },
  {
   "cell_type": "markdown",
   "metadata": {},
   "source": [
    "#### Initialize"
   ]
  },
  {
   "cell_type": "code",
   "execution_count": 20,
   "metadata": {},
   "outputs": [],
   "source": [
    "m_par= ModelParameters{Float64}()\n",
    "gV_conHA= ContainerHA{Array{Float64,2}}();\n",
    "\n",
    "lnincomeGrid, transitionMatrix= Rouwenhorst_AR1(m_par.ρ,m_par.σ2,n_par.ny);\n",
    "incomeGrid= exp.(lnincomeGrid)\n",
    "\n",
    "gridA= n_par.amin .+ (collect(0:n_par.na-1)./n_par.na).^2 .* (n_par.amax - n_par.amin);\n",
    "grids= Grids(gridA=gridA, Π=transitionMatrix, gridY=incomeGrid);"
   ]
  },
  {
   "cell_type": "markdown",
   "metadata": {},
   "source": [
    "#### Illustration"
   ]
  },
  {
   "cell_type": "code",
   "execution_count": 21,
   "metadata": {},
   "outputs": [
    {
     "name": "stdout",
     "output_type": "stream",
     "text": [
      "Finished EGM in iteration = 210, and diff = 9.998442607184188e-8\n"
     ]
    }
   ],
   "source": [
    "# Interest rate\n",
    "r= 0.03\n",
    "# Wage\n",
    "w= 1.0\n",
    "\n",
    "\n",
    "# Guess\n",
    "Cguess= ones(n_par.na, n_par.ny) .* r .+ gridA;\n",
    "gV_conHA= ContainerHA(C=Cguess);\n",
    "\n",
    "# EGM\n",
    "gV_conHA= egm(r, r, w, m_par, n_par, grids, gV_conHA);"
   ]
  },
  {
   "cell_type": "code",
   "execution_count": 22,
   "metadata": {},
   "outputs": [
    {
     "name": "stdout",
     "output_type": "stream",
     "text": [
      "Aggregate assets = 3.4264687264822458\n"
     ]
    }
   ],
   "source": [
    "# Density discretization\n",
    "mA_Dist= ones(n_par.na, n_par.ny)/(n_par.na*n_par.ny);\n",
    "mA_Dist= density_discretization(gV_conHA::ContainerHA, grids::Grids, n_par::NumericalParameters, mA_Dist)\n",
    "vA_dist= sum(mA_Dist,dims=2)\n",
    "\n",
    "## Aggregate assets\n",
    "println(\"Aggregate assets = \", sum(vA_dist .* grids.gridA))\n"
   ]
  },
  {
   "cell_type": "markdown",
   "metadata": {},
   "source": [
    "#### Plot distribution"
   ]
  },
  {
   "cell_type": "code",
   "execution_count": 23,
   "metadata": {},
   "outputs": [
    {
     "data": {
      "image/png": "[encoded data removed]",
      "image/svg+xml": [
       "<?xml version=\"1.0\" encoding=\"utf-8\"?>\n",
       "<svg xmlns=\"http://www.w3.org/2000/svg\" xmlns:xlink=\"http://www.w3.org/1999/xlink\" width=\"200\" height=\"100\" viewBox=\"0 0 800 400\">\n",
       "<defs>\n",
       "  <clipPath id=\"clip660\">\n",
       "    <rect x=\"0\" y=\"0\" width=\"800\" height=\"400\"/>\n",
       "  </clipPath>\n",
       "</defs>\n",
       "<path clip-path=\"url(#clip660)\" d=\"\n",
       "M0 400 L800 400 L800 0 L0 0  Z\n",
       "  \" fill=\"#ffffff\" fill-rule=\"evenodd\" fill-opacity=\"1\"/>\n",
       "<defs>\n",
       "  <clipPath id=\"clip661\">\n",
       "    <rect x=\"160\" y=\"0\" width=\"561\" height=\"400\"/>\n",
       "  </clipPath>\n",
       "</defs>\n",
       "<path clip-path=\"url(#clip660)\" d=\"\n",
       "M52.4689 373.772 L788.189 373.772 L788.189 11.811 L52.4689 11.811  Z\n",
       "  \" fill=\"#ffffff\" fill-rule=\"evenodd\" fill-opacity=\"1\"/>\n",
       "<defs>\n",
       "  <clipPath id=\"clip662\">\n",
       "    <rect x=\"52\" y=\"11\" width=\"737\" height=\"363\"/>\n",
       "  </clipPath>\n",
       "</defs>\n",
       "<polyline clip-path=\"url(#clip662)\" style=\"stroke:#000000; stroke-width:0.5; stroke-opacity:0.1; fill:none\" points=\"\n",
       "  70.7496,373.772 70.7496,11.811 \n",
       "  \"/>\n",
       "<polyline clip-path=\"url(#clip662)\" style=\"stroke:#000000; stroke-width:0.5; stroke-opacity:0.1; fill:none\" points=\"\n",
       "  196.261,373.772 196.261,11.811 \n",
       "  \"/>\n",
       "<polyline clip-path=\"url(#clip662)\" style=\"stroke:#000000; stroke-width:0.5; stroke-opacity:0.1; fill:none\" points=\"\n",
       "  321.771,373.772 321.771,11.811 \n",
       "  \"/>\n",
       "<polyline clip-path=\"url(#clip662)\" style=\"stroke:#000000; stroke-width:0.5; stroke-opacity:0.1; fill:none\" points=\"\n",
       "  447.282,373.772 447.282,11.811 \n",
       "  \"/>\n",
       "<polyline clip-path=\"url(#clip662)\" style=\"stroke:#000000; stroke-width:0.5; stroke-opacity:0.1; fill:none\" points=\"\n",
       "  572.793,373.772 572.793,11.811 \n",
       "  \"/>\n",
       "<polyline clip-path=\"url(#clip662)\" style=\"stroke:#000000; stroke-width:0.5; stroke-opacity:0.1; fill:none\" points=\"\n",
       "  698.304,373.772 698.304,11.811 \n",
       "  \"/>\n",
       "<polyline clip-path=\"url(#clip660)\" style=\"stroke:#000000; stroke-width:1; stroke-opacity:1; fill:none\" points=\"\n",
       "  52.4689,373.772 788.189,373.772 \n",
       "  \"/>\n",
       "<polyline clip-path=\"url(#clip660)\" style=\"stroke:#000000; stroke-width:1; stroke-opacity:1; fill:none\" points=\"\n",
       "  70.7496,373.772 70.7496,369.428 \n",
       "  \"/>\n",
       "<polyline clip-path=\"url(#clip660)\" style=\"stroke:#000000; stroke-width:1; stroke-opacity:1; fill:none\" points=\"\n",
       "  196.261,373.772 196.261,369.428 \n",
       "  \"/>\n",
       "<polyline clip-path=\"url(#clip660)\" style=\"stroke:#000000; stroke-width:1; stroke-opacity:1; fill:none\" points=\"\n",
       "  321.771,373.772 321.771,369.428 \n",
       "  \"/>\n",
       "<polyline clip-path=\"url(#clip660)\" style=\"stroke:#000000; stroke-width:1; stroke-opacity:1; fill:none\" points=\"\n",
       "  447.282,373.772 447.282,369.428 \n",
       "  \"/>\n",
       "<polyline clip-path=\"url(#clip660)\" style=\"stroke:#000000; stroke-width:1; stroke-opacity:1; fill:none\" points=\"\n",
       "  572.793,373.772 572.793,369.428 \n",
       "  \"/>\n",
       "<polyline clip-path=\"url(#clip660)\" style=\"stroke:#000000; stroke-width:1; stroke-opacity:1; fill:none\" points=\"\n",
       "  698.304,373.772 698.304,369.428 \n",
       "  \"/>\n",
       "<path clip-path=\"url(#clip660)\" d=\"M 0 0 M70.7496 382.67 Q69.8468 382.67 69.3897 383.561 Q68.9383 384.446 68.9383 386.229 Q68.9383 388.005 69.3897 388.896 Q69.8468 389.782 70.7496 389.782 Q71.6582 389.782 72.1096 388.896 Q72.5667 388.005 72.5667 386.229 Q72.5667 384.446 72.1096 383.561 Q71.6582 382.67 70.7496 382.67 M70.7496 381.744 Q72.2021 381.744 72.966 382.895 Q73.7357 384.041 73.7357 386.229 Q73.7357 388.41 72.966 389.562 Q72.2021 390.708 70.7496 390.708 Q69.2971 390.708 68.5274 389.562 Q67.7635 388.41 67.7635 386.229 Q67.7635 384.041 68.5274 382.895 Q69.2971 381.744 70.7496 381.744 Z\" fill=\"#000000\" fill-rule=\"evenodd\" fill-opacity=\"1\" /><path clip-path=\"url(#clip660)\" d=\"M 0 0 M193.83 381.9 L198.419 381.9 L198.419 382.884 L194.901 382.884 L194.901 385.002 Q195.155 384.915 195.41 384.874 Q195.664 384.828 195.919 384.828 Q197.366 384.828 198.211 385.621 Q199.056 386.414 199.056 387.768 Q199.056 389.163 198.188 389.938 Q197.32 390.708 195.74 390.708 Q195.196 390.708 194.629 390.615 Q194.067 390.523 193.465 390.337 L193.465 389.163 Q193.986 389.446 194.542 389.585 Q195.097 389.724 195.717 389.724 Q196.718 389.724 197.302 389.197 Q197.887 388.671 197.887 387.768 Q197.887 386.865 197.302 386.339 Q196.718 385.812 195.717 385.812 Q195.248 385.812 194.779 385.916 Q194.316 386.02 193.83 386.24 L193.83 381.9 Z\" fill=\"#000000\" fill-rule=\"evenodd\" fill-opacity=\"1\" /><path clip-path=\"url(#clip660)\" d=\"M 0 0 M315.99 389.556 L317.9 389.556 L317.9 382.965 L315.822 383.381 L315.822 382.317 L317.888 381.9 L319.057 381.9 L319.057 389.556 L320.967 389.556 L320.967 390.54 L315.99 390.54 L315.99 389.556 Z\" fill=\"#000000\" fill-rule=\"evenodd\" fill-opacity=\"1\" /><path clip-path=\"url(#clip660)\" d=\"M 0 0 M324.734 382.67 Q323.832 382.67 323.374 383.561 Q322.923 384.446 322.923 386.229 Q322.923 388.005 323.374 388.896 Q323.832 389.782 324.734 389.782 Q325.643 389.782 326.094 388.896 Q326.552 388.005 326.552 386.229 Q326.552 384.446 326.094 383.561 Q325.643 382.67 324.734 382.67 M324.734 381.744 Q326.187 381.744 326.951 382.895 Q327.721 384.041 327.721 386.229 Q327.721 388.41 326.951 389.562 Q326.187 390.708 324.734 390.708 Q323.282 390.708 322.512 389.562 Q321.748 388.41 321.748 386.229 Q321.748 384.041 322.512 382.895 Q323.282 381.744 324.734 381.744 Z\" fill=\"#000000\" fill-rule=\"evenodd\" fill-opacity=\"1\" /><path clip-path=\"url(#clip660)\" d=\"M 0 0 M441.626 389.556 L443.535 389.556 L443.535 382.965 L441.458 383.381 L441.458 382.317 L443.524 381.9 L444.693 381.9 L444.693 389.556 L446.602 389.556 L446.602 390.54 L441.626 390.54 L441.626 389.556 Z\" fill=\"#000000\" fill-rule=\"evenodd\" fill-opacity=\"1\" /><path clip-path=\"url(#clip660)\" d=\"M 0 0 M447.881 381.9 L452.47 381.9 L452.47 382.884 L448.952 382.884 L448.952 385.002 Q449.207 384.915 449.461 384.874 Q449.716 384.828 449.97 384.828 Q451.417 384.828 452.262 385.621 Q453.107 386.414 453.107 387.768 Q453.107 389.163 452.239 389.938 Q451.371 390.708 449.791 390.708 Q449.247 390.708 448.68 390.615 Q448.119 390.523 447.517 390.337 L447.517 389.163 Q448.038 389.446 448.593 389.585 Q449.149 389.724 449.768 389.724 Q450.769 389.724 451.354 389.197 Q451.938 388.671 451.938 387.768 Q451.938 386.865 451.354 386.339 Q450.769 385.812 449.768 385.812 Q449.299 385.812 448.83 385.916 Q448.367 386.02 447.881 386.24 L447.881 381.9 Z\" fill=\"#000000\" fill-rule=\"evenodd\" fill-opacity=\"1\" /><path clip-path=\"url(#clip660)\" d=\"M 0 0 M568.08 389.556 L572.16 389.556 L572.16 390.54 L566.674 390.54 L566.674 389.556 Q567.339 388.868 568.485 387.71 Q569.637 386.547 569.932 386.211 Q570.493 385.581 570.713 385.146 Q570.939 384.707 570.939 384.284 Q570.939 383.596 570.453 383.162 Q569.972 382.728 569.197 382.728 Q568.647 382.728 568.034 382.918 Q567.426 383.109 566.731 383.497 L566.731 382.317 Q567.438 382.033 568.051 381.888 Q568.664 381.744 569.174 381.744 Q570.516 381.744 571.315 382.415 Q572.113 383.086 572.113 384.209 Q572.113 384.741 571.911 385.222 Q571.714 385.696 571.187 386.344 Q571.043 386.512 570.267 387.317 Q569.492 388.115 568.08 389.556 Z\" fill=\"#000000\" fill-rule=\"evenodd\" fill-opacity=\"1\" /><path clip-path=\"url(#clip660)\" d=\"M 0 0 M575.927 382.67 Q575.024 382.67 574.567 383.561 Q574.116 384.446 574.116 386.229 Q574.116 388.005 574.567 388.896 Q575.024 389.782 575.927 389.782 Q576.836 389.782 577.287 388.896 Q577.744 388.005 577.744 386.229 Q577.744 384.446 577.287 383.561 Q576.836 382.67 575.927 382.67 M575.927 381.744 Q577.38 381.744 578.143 382.895 Q578.913 384.041 578.913 386.229 Q578.913 388.41 578.143 389.562 Q577.38 390.708 575.927 390.708 Q574.475 390.708 573.705 389.562 Q572.941 388.41 572.941 386.229 Q572.941 384.041 573.705 382.895 Q574.475 381.744 575.927 381.744 Z\" fill=\"#000000\" fill-rule=\"evenodd\" fill-opacity=\"1\" /><path clip-path=\"url(#clip660)\" d=\"M 0 0 M693.715 389.556 L697.795 389.556 L697.795 390.54 L692.309 390.54 L692.309 389.556 Q692.974 388.868 694.12 387.71 Q695.272 386.547 695.567 386.211 Q696.128 385.581 696.348 385.146 Q696.574 384.707 696.574 384.284 Q696.574 383.596 696.088 383.162 Q695.608 382.728 694.832 382.728 Q694.282 382.728 693.669 382.918 Q693.061 383.109 692.367 383.497 L692.367 382.317 Q693.073 382.033 693.686 381.888 Q694.3 381.744 694.809 381.744 Q696.152 381.744 696.95 382.415 Q697.749 383.086 697.749 384.209 Q697.749 384.741 697.546 385.222 Q697.349 385.696 696.823 386.344 Q696.678 386.512 695.903 387.317 Q695.127 388.115 693.715 389.556 Z\" fill=\"#000000\" fill-rule=\"evenodd\" fill-opacity=\"1\" /><path clip-path=\"url(#clip660)\" d=\"M 0 0 M699.074 381.9 L703.663 381.9 L703.663 382.884 L700.145 382.884 L700.145 385.002 Q700.399 384.915 700.654 384.874 Q700.908 384.828 701.163 384.828 Q702.61 384.828 703.455 385.621 Q704.3 386.414 704.3 387.768 Q704.3 389.163 703.432 389.938 Q702.564 390.708 700.984 390.708 Q700.44 390.708 699.873 390.615 Q699.311 390.523 698.709 390.337 L698.709 389.163 Q699.23 389.446 699.786 389.585 Q700.341 389.724 700.961 389.724 Q701.962 389.724 702.546 389.197 Q703.131 388.671 703.131 387.768 Q703.131 386.865 702.546 386.339 Q701.962 385.812 700.961 385.812 Q700.492 385.812 700.023 385.916 Q699.56 386.02 699.074 386.24 L699.074 381.9 Z\" fill=\"#000000\" fill-rule=\"evenodd\" fill-opacity=\"1\" /><polyline clip-path=\"url(#clip662)\" style=\"stroke:#000000; stroke-width:0.5; stroke-opacity:0.1; fill:none\" points=\"\n",
       "  52.4689,365.996 788.189,365.996 \n",
       "  \"/>\n",
       "<polyline clip-path=\"url(#clip662)\" style=\"stroke:#000000; stroke-width:0.5; stroke-opacity:0.1; fill:none\" points=\"\n",
       "  52.4689,265.177 788.189,265.177 \n",
       "  \"/>\n",
       "<polyline clip-path=\"url(#clip662)\" style=\"stroke:#000000; stroke-width:0.5; stroke-opacity:0.1; fill:none\" points=\"\n",
       "  52.4689,164.359 788.189,164.359 \n",
       "  \"/>\n",
       "<polyline clip-path=\"url(#clip662)\" style=\"stroke:#000000; stroke-width:0.5; stroke-opacity:0.1; fill:none\" points=\"\n",
       "  52.4689,63.5406 788.189,63.5406 \n",
       "  \"/>\n",
       "<polyline clip-path=\"url(#clip660)\" style=\"stroke:#000000; stroke-width:1; stroke-opacity:1; fill:none\" points=\"\n",
       "  52.4689,373.772 52.4689,11.811 \n",
       "  \"/>\n",
       "<polyline clip-path=\"url(#clip660)\" style=\"stroke:#000000; stroke-width:1; stroke-opacity:1; fill:none\" points=\"\n",
       "  52.4689,365.996 61.2976,365.996 \n",
       "  \"/>\n",
       "<polyline clip-path=\"url(#clip660)\" style=\"stroke:#000000; stroke-width:1; stroke-opacity:1; fill:none\" points=\"\n",
       "  52.4689,265.177 61.2976,265.177 \n",
       "  \"/>\n",
       "<polyline clip-path=\"url(#clip660)\" style=\"stroke:#000000; stroke-width:1; stroke-opacity:1; fill:none\" points=\"\n",
       "  52.4689,164.359 61.2976,164.359 \n",
       "  \"/>\n",
       "<polyline clip-path=\"url(#clip660)\" style=\"stroke:#000000; stroke-width:1; stroke-opacity:1; fill:none\" points=\"\n",
       "  52.4689,63.5406 61.2976,63.5406 \n",
       "  \"/>\n",
       "<path clip-path=\"url(#clip660)\" d=\"M 0 0 M14.7341 362.445 Q13.8314 362.445 13.3742 363.336 Q12.9228 364.222 12.9228 366.004 Q12.9228 367.781 13.3742 368.672 Q13.8314 369.557 14.7341 369.557 Q15.6427 369.557 16.0941 368.672 Q16.5512 367.781 16.5512 366.004 Q16.5512 364.222 16.0941 363.336 Q15.6427 362.445 14.7341 362.445 M14.7341 361.519 Q16.1867 361.519 16.9505 362.671 Q17.7202 363.817 17.7202 366.004 Q17.7202 368.186 16.9505 369.338 Q16.1867 370.483 14.7341 370.483 Q13.2816 370.483 12.5119 369.338 Q11.748 368.186 11.748 366.004 Q11.748 363.817 12.5119 362.671 Q13.2816 361.519 14.7341 361.519 Z\" fill=\"#000000\" fill-rule=\"evenodd\" fill-opacity=\"1\" /><path clip-path=\"url(#clip660)\" d=\"M 0 0 M18.9876 368.846 L20.2086 368.846 L20.2086 370.316 L18.9876 370.316 L18.9876 368.846 Z\" fill=\"#000000\" fill-rule=\"evenodd\" fill-opacity=\"1\" /><path clip-path=\"url(#clip660)\" d=\"M 0 0 M23.976 362.445 Q23.0732 362.445 22.616 363.336 Q22.1646 364.222 22.1646 366.004 Q22.1646 367.781 22.616 368.672 Q23.0732 369.557 23.976 369.557 Q24.8845 369.557 25.3359 368.672 Q25.7931 367.781 25.7931 366.004 Q25.7931 364.222 25.3359 363.336 Q24.8845 362.445 23.976 362.445 M23.976 361.519 Q25.4285 361.519 26.1924 362.671 Q26.9621 363.817 26.9621 366.004 Q26.9621 368.186 26.1924 369.338 Q25.4285 370.483 23.976 370.483 Q22.5234 370.483 21.7538 369.338 Q20.9899 368.186 20.9899 366.004 Q20.9899 363.817 21.7538 362.671 Q22.5234 361.519 23.976 361.519 Z\" fill=\"#000000\" fill-rule=\"evenodd\" fill-opacity=\"1\" /><path clip-path=\"url(#clip660)\" d=\"M 0 0 M30.7294 362.445 Q29.8266 362.445 29.3695 363.336 Q28.9181 364.222 28.9181 366.004 Q28.9181 367.781 29.3695 368.672 Q29.8266 369.557 30.7294 369.557 Q31.638 369.557 32.0894 368.672 Q32.5465 367.781 32.5465 366.004 Q32.5465 364.222 32.0894 363.336 Q31.638 362.445 30.7294 362.445 M30.7294 361.519 Q32.1819 361.519 32.9458 362.671 Q33.7155 363.817 33.7155 366.004 Q33.7155 368.186 32.9458 369.338 Q32.1819 370.483 30.7294 370.483 Q29.2769 370.483 28.5072 369.338 Q27.7433 368.186 27.7433 366.004 Q27.7433 363.817 28.5072 362.671 Q29.2769 361.519 30.7294 361.519 Z\" fill=\"#000000\" fill-rule=\"evenodd\" fill-opacity=\"1\" /><path clip-path=\"url(#clip660)\" d=\"M 0 0 M37.4828 362.445 Q36.5801 362.445 36.1229 363.336 Q35.6715 364.222 35.6715 366.004 Q35.6715 367.781 36.1229 368.672 Q36.5801 369.557 37.4828 369.557 Q38.3914 369.557 38.8428 368.672 Q39.3 367.781 39.3 366.004 Q39.3 364.222 38.8428 363.336 Q38.3914 362.445 37.4828 362.445 M37.4828 361.519 Q38.9354 361.519 39.6993 362.671 Q40.4689 363.817 40.4689 366.004 Q40.4689 368.186 39.6993 369.338 Q38.9354 370.483 37.4828 370.483 Q36.0303 370.483 35.2606 369.338 Q34.4968 368.186 34.4968 366.004 Q34.4968 363.817 35.2606 362.671 Q36.0303 361.519 37.4828 361.519 Z\" fill=\"#000000\" fill-rule=\"evenodd\" fill-opacity=\"1\" /><path clip-path=\"url(#clip660)\" d=\"M 0 0 M14.983 261.627 Q14.0802 261.627 13.623 262.518 Q13.1716 263.403 13.1716 265.186 Q13.1716 266.962 13.623 267.854 Q14.0802 268.739 14.983 268.739 Q15.8915 268.739 16.3429 267.854 Q16.8001 266.962 16.8001 265.186 Q16.8001 263.403 16.3429 262.518 Q15.8915 261.627 14.983 261.627 M14.983 260.701 Q16.4355 260.701 17.1994 261.853 Q17.9691 262.998 17.9691 265.186 Q17.9691 267.368 17.1994 268.519 Q16.4355 269.665 14.983 269.665 Q13.5304 269.665 12.7608 268.519 Q11.9969 267.368 11.9969 265.186 Q11.9969 262.998 12.7608 261.853 Q13.5304 260.701 14.983 260.701 Z\" fill=\"#000000\" fill-rule=\"evenodd\" fill-opacity=\"1\" /><path clip-path=\"url(#clip660)\" d=\"M 0 0 M19.2364 268.027 L20.4575 268.027 L20.4575 269.497 L19.2364 269.497 L19.2364 268.027 Z\" fill=\"#000000\" fill-rule=\"evenodd\" fill-opacity=\"1\" /><path clip-path=\"url(#clip660)\" d=\"M 0 0 M24.2248 261.627 Q23.322 261.627 22.8649 262.518 Q22.4135 263.403 22.4135 265.186 Q22.4135 266.962 22.8649 267.854 Q23.322 268.739 24.2248 268.739 Q25.1334 268.739 25.5848 267.854 Q26.0419 266.962 26.0419 265.186 Q26.0419 263.403 25.5848 262.518 Q25.1334 261.627 24.2248 261.627 M24.2248 260.701 Q25.6774 260.701 26.4412 261.853 Q27.2109 262.998 27.2109 265.186 Q27.2109 267.368 26.4412 268.519 Q25.6774 269.665 24.2248 269.665 Q22.7723 269.665 22.0026 268.519 Q21.2387 267.368 21.2387 265.186 Q21.2387 262.998 22.0026 261.853 Q22.7723 260.701 24.2248 260.701 Z\" fill=\"#000000\" fill-rule=\"evenodd\" fill-opacity=\"1\" /><path clip-path=\"url(#clip660)\" d=\"M 0 0 M30.9783 261.627 Q30.0755 261.627 29.6183 262.518 Q29.1669 263.403 29.1669 265.186 Q29.1669 266.962 29.6183 267.854 Q30.0755 268.739 30.9783 268.739 Q31.8868 268.739 32.3382 267.854 Q32.7954 266.962 32.7954 265.186 Q32.7954 263.403 32.3382 262.518 Q31.8868 261.627 30.9783 261.627 M30.9783 260.701 Q32.4308 260.701 33.1947 261.853 Q33.9643 262.998 33.9643 265.186 Q33.9643 267.368 33.1947 268.519 Q32.4308 269.665 30.9783 269.665 Q29.5257 269.665 28.756 268.519 Q27.9922 267.368 27.9922 265.186 Q27.9922 262.998 28.756 261.853 Q29.5257 260.701 30.9783 260.701 Z\" fill=\"#000000\" fill-rule=\"evenodd\" fill-opacity=\"1\" /><path clip-path=\"url(#clip660)\" d=\"M 0 0 M35.2433 260.857 L39.8324 260.857 L39.8324 261.841 L36.3139 261.841 L36.3139 263.959 Q36.5685 263.872 36.8231 263.832 Q37.0778 263.785 37.3324 263.785 Q38.7791 263.785 39.624 264.578 Q40.4689 265.371 40.4689 266.725 Q40.4689 268.12 39.6009 268.895 Q38.7328 269.665 37.153 269.665 Q36.609 269.665 36.0419 269.572 Q35.4805 269.48 34.8787 269.295 L34.8787 268.12 Q35.3995 268.403 35.9551 268.542 Q36.5106 268.681 37.1298 268.681 Q38.131 268.681 38.7155 268.155 Q39.3 267.628 39.3 266.725 Q39.3 265.822 38.7155 265.296 Q38.131 264.769 37.1298 264.769 Q36.6611 264.769 36.1923 264.873 Q35.7294 264.978 35.2433 265.197 L35.2433 260.857 Z\" fill=\"#000000\" fill-rule=\"evenodd\" fill-opacity=\"1\" /><path clip-path=\"url(#clip660)\" d=\"M 0 0 M15.0408 160.809 Q14.1381 160.809 13.6809 161.7 Q13.2295 162.585 13.2295 164.368 Q13.2295 166.144 13.6809 167.035 Q14.1381 167.921 15.0408 167.921 Q15.9494 167.921 16.4008 167.035 Q16.858 166.144 16.858 164.368 Q16.858 162.585 16.4008 161.7 Q15.9494 160.809 15.0408 160.809 M15.0408 159.883 Q16.4934 159.883 17.2573 161.034 Q18.0269 162.18 18.0269 164.368 Q18.0269 166.549 17.2573 167.701 Q16.4934 168.847 15.0408 168.847 Q13.5883 168.847 12.8186 167.701 Q12.0547 166.549 12.0547 164.368 Q12.0547 162.18 12.8186 161.034 Q13.5883 159.883 15.0408 159.883 Z\" fill=\"#000000\" fill-rule=\"evenodd\" fill-opacity=\"1\" /><path clip-path=\"url(#clip660)\" d=\"M 0 0 M19.2943 167.209 L20.5153 167.209 L20.5153 168.679 L19.2943 168.679 L19.2943 167.209 Z\" fill=\"#000000\" fill-rule=\"evenodd\" fill-opacity=\"1\" /><path clip-path=\"url(#clip660)\" d=\"M 0 0 M24.2827 160.809 Q23.3799 160.809 22.9227 161.7 Q22.4714 162.585 22.4714 164.368 Q22.4714 166.144 22.9227 167.035 Q23.3799 167.921 24.2827 167.921 Q25.1912 167.921 25.6426 167.035 Q26.0998 166.144 26.0998 164.368 Q26.0998 162.585 25.6426 161.7 Q25.1912 160.809 24.2827 160.809 M24.2827 159.883 Q25.7352 159.883 26.4991 161.034 Q27.2688 162.18 27.2688 164.368 Q27.2688 166.549 26.4991 167.701 Q25.7352 168.847 24.2827 168.847 Q22.8301 168.847 22.0605 167.701 Q21.2966 166.549 21.2966 164.368 Q21.2966 162.18 22.0605 161.034 Q22.8301 159.883 24.2827 159.883 Z\" fill=\"#000000\" fill-rule=\"evenodd\" fill-opacity=\"1\" /><path clip-path=\"url(#clip660)\" d=\"M 0 0 M28.7387 167.695 L30.6484 167.695 L30.6484 161.104 L28.5709 161.52 L28.5709 160.456 L30.6368 160.039 L31.8058 160.039 L31.8058 167.695 L33.7155 167.695 L33.7155 168.679 L28.7387 168.679 L28.7387 167.695 Z\" fill=\"#000000\" fill-rule=\"evenodd\" fill-opacity=\"1\" /><path clip-path=\"url(#clip660)\" d=\"M 0 0 M37.4828 160.809 Q36.5801 160.809 36.1229 161.7 Q35.6715 162.585 35.6715 164.368 Q35.6715 166.144 36.1229 167.035 Q36.5801 167.921 37.4828 167.921 Q38.3914 167.921 38.8428 167.035 Q39.3 166.144 39.3 164.368 Q39.3 162.585 38.8428 161.7 Q38.3914 160.809 37.4828 160.809 M37.4828 159.883 Q38.9354 159.883 39.6993 161.034 Q40.4689 162.18 40.4689 164.368 Q40.4689 166.549 39.6993 167.701 Q38.9354 168.847 37.4828 168.847 Q36.0303 168.847 35.2606 167.701 Q34.4968 166.549 34.4968 164.368 Q34.4968 162.18 35.2606 161.034 Q36.0303 159.883 37.4828 159.883 Z\" fill=\"#000000\" fill-rule=\"evenodd\" fill-opacity=\"1\" /><path clip-path=\"url(#clip660)\" d=\"M 0 0 M15.2897 59.9903 Q14.3869 59.9903 13.9297 60.8815 Q13.4783 61.7669 13.4783 63.5493 Q13.4783 65.3259 13.9297 66.2171 Q14.3869 67.1025 15.2897 67.1025 Q16.1982 67.1025 16.6496 66.2171 Q17.1068 65.3259 17.1068 63.5493 Q17.1068 61.7669 16.6496 60.8815 Q16.1982 59.9903 15.2897 59.9903 M15.2897 59.0644 Q16.7422 59.0644 17.5061 60.216 Q18.2758 61.3618 18.2758 63.5493 Q18.2758 65.731 17.5061 66.8826 Q16.7422 68.0284 15.2897 68.0284 Q13.8371 68.0284 13.0675 66.8826 Q12.3036 65.731 12.3036 63.5493 Q12.3036 61.3618 13.0675 60.216 Q13.8371 59.0644 15.2897 59.0644 Z\" fill=\"#000000\" fill-rule=\"evenodd\" fill-opacity=\"1\" /><path clip-path=\"url(#clip660)\" d=\"M 0 0 M19.5431 66.3907 L20.7642 66.3907 L20.7642 67.8606 L19.5431 67.8606 L19.5431 66.3907 Z\" fill=\"#000000\" fill-rule=\"evenodd\" fill-opacity=\"1\" /><path clip-path=\"url(#clip660)\" d=\"M 0 0 M24.5315 59.9903 Q23.6288 59.9903 23.1716 60.8815 Q22.7202 61.7669 22.7202 63.5493 Q22.7202 65.3259 23.1716 66.2171 Q23.6288 67.1025 24.5315 67.1025 Q25.4401 67.1025 25.8915 66.2171 Q26.3486 65.3259 26.3486 63.5493 Q26.3486 61.7669 25.8915 60.8815 Q25.4401 59.9903 24.5315 59.9903 M24.5315 59.0644 Q25.9841 59.0644 26.748 60.216 Q27.5176 61.3618 27.5176 63.5493 Q27.5176 65.731 26.748 66.8826 Q25.9841 68.0284 24.5315 68.0284 Q23.079 68.0284 22.3093 66.8826 Q21.5454 65.731 21.5454 63.5493 Q21.5454 61.3618 22.3093 60.216 Q23.079 59.0644 24.5315 59.0644 Z\" fill=\"#000000\" fill-rule=\"evenodd\" fill-opacity=\"1\" /><path clip-path=\"url(#clip660)\" d=\"M 0 0 M28.9875 66.8768 L30.8972 66.8768 L30.8972 60.2854 L28.8197 60.7021 L28.8197 59.6373 L30.8857 59.2206 L32.0546 59.2206 L32.0546 66.8768 L33.9643 66.8768 L33.9643 67.8606 L28.9875 67.8606 L28.9875 66.8768 Z\" fill=\"#000000\" fill-rule=\"evenodd\" fill-opacity=\"1\" /><path clip-path=\"url(#clip660)\" d=\"M 0 0 M35.2433 59.2206 L39.8324 59.2206 L39.8324 60.2044 L36.3139 60.2044 L36.3139 62.3224 Q36.5685 62.2356 36.8231 62.1951 Q37.0778 62.1488 37.3324 62.1488 Q38.7791 62.1488 39.624 62.9416 Q40.4689 63.7345 40.4689 65.0886 Q40.4689 66.4833 39.6009 67.2588 Q38.7328 68.0284 37.153 68.0284 Q36.609 68.0284 36.0419 67.9358 Q35.4805 67.8432 34.8787 67.6581 L34.8787 66.4833 Q35.3995 66.7669 35.9551 66.9057 Q36.5106 67.0446 37.1298 67.0446 Q38.131 67.0446 38.7155 66.518 Q39.3 65.9914 39.3 65.0886 Q39.3 64.1859 38.7155 63.6592 Q38.131 63.1326 37.1298 63.1326 Q36.6611 63.1326 36.1923 63.2368 Q35.7294 63.341 35.2433 63.5609 L35.2433 59.2206 Z\" fill=\"#000000\" fill-rule=\"evenodd\" fill-opacity=\"1\" /><polyline clip-path=\"url(#clip662)\" style=\"stroke:#009af9; stroke-width:1; stroke-opacity:1; fill:none\" points=\"\n",
       "  73.2912,171.185 73.8874,150.81 74.5463,115.11 75.268,101.827 76.0524,86.6321 76.8996,74.511 77.8096,59.1589 78.7823,54.684 79.8178,51.826 80.916,64.0861 \n",
       "  82.077,22.0552 83.3007,148.061 84.5872,172.452 85.9364,174.805 87.3484,178.441 88.8232,180.398 90.3607,173.016 91.961,177.988 93.624,179.454 95.3498,174.835 \n",
       "  97.1383,174.442 98.9896,172.623 100.904,171.125 102.88,171.765 104.92,169.988 107.022,169.526 109.187,168.92 111.415,167.948 113.706,167.607 116.059,166.384 \n",
       "  118.475,161.959 120.954,165.585 123.496,163.169 126.1,165.065 128.767,163.938 131.497,165.529 134.29,165.587 137.145,166.737 140.063,167.742 143.044,168.359 \n",
       "  146.088,169.981 149.194,171.696 152.363,173.265 155.595,175.215 158.89,177.115 162.247,178.354 165.667,178.876 169.15,182.344 172.696,185.492 176.304,188.424 \n",
       "  179.976,191.642 183.709,195.388 187.506,199.175 191.366,202.584 195.288,206.081 199.273,209.05 203.321,213.803 207.431,217.416 211.604,220.836 215.84,224.409 \n",
       "  220.139,228.7 224.501,232.123 228.925,235.467 233.412,239.278 237.962,242.792 242.574,245.884 247.249,249.295 251.987,252.56 256.788,255.016 261.652,257.573 \n",
       "  266.578,261.117 271.567,263.329 276.619,265.847 281.734,268.842 286.911,270.916 292.151,273.401 297.454,275.879 302.819,277.94 308.248,280.349 313.739,277.773 \n",
       "  319.293,283.796 324.909,287.655 330.589,289.733 336.331,291.813 342.136,293.84 348.003,295.865 353.934,297.845 359.927,299.805 365.983,301.716 372.101,303.35 \n",
       "  378.283,305.251 384.527,307.322 390.834,309.204 397.204,311.201 403.636,313.063 410.131,314.985 416.689,316.816 423.31,318.666 429.993,320.456 436.74,322.237 \n",
       "  443.548,323.975 450.42,325.689 457.355,327.366 464.352,329.013 471.412,330.625 478.535,332.202 485.72,333.743 492.968,335.249 500.279,336.717 507.653,338.147 \n",
       "  515.09,339.54 522.589,340.894 530.151,342.208 537.776,343.483 545.463,344.718 553.214,345.913 561.027,347.068 568.903,348.182 576.841,349.256 584.842,350.289 \n",
       "  592.907,351.281 601.033,352.234 609.223,353.146 617.475,354.005 625.79,354.754 634.168,355.587 642.609,356.378 651.112,357.127 659.678,357.835 668.307,358.503 \n",
       "  676.999,359.132 685.753,359.723 694.57,360.278 703.45,360.796 712.393,361.28 721.398,361.731 730.466,362.149 739.597,362.537 748.791,362.895 758.048,363.225 \n",
       "  767.367,363.528 \n",
       "  \"/>\n",
       "<path clip-path=\"url(#clip660)\" d=\"\n",
       "M611.728 54.1164 L763.665 54.1164 L763.665 23.8764 L611.728 23.8764  Z\n",
       "  \" fill=\"#ffffff\" fill-rule=\"evenodd\" fill-opacity=\"1\"/>\n",
       "<polyline clip-path=\"url(#clip660)\" style=\"stroke:#000000; stroke-width:1; stroke-opacity:1; fill:none\" points=\"\n",
       "  611.728,54.1164 763.665,54.1164 763.665,23.8764 611.728,23.8764 611.728,54.1164 \n",
       "  \"/>\n",
       "<polyline clip-path=\"url(#clip660)\" style=\"stroke:#009af9; stroke-width:1; stroke-opacity:1; fill:none\" points=\"\n",
       "  619.902,38.9964 668.95,38.9964 \n",
       "  \"/>\n",
       "<path clip-path=\"url(#clip660)\" d=\"M 0 0 M678.294 35.637 L678.294 42.3557 L679.706 42.3557 Q681.494 42.3557 682.322 41.5456 Q683.155 40.7354 683.155 38.9877 Q683.155 37.2516 682.322 36.4472 Q681.494 35.637 679.706 35.637 L678.294 35.637 M677.125 34.6764 L679.527 34.6764 Q682.038 34.6764 683.213 35.7238 Q684.388 36.7655 684.388 38.9877 Q684.388 41.2215 683.207 42.2689 Q682.027 43.3164 679.527 43.3164 L677.125 43.3164 L677.125 34.6764 Z\" fill=\"#000000\" fill-rule=\"evenodd\" fill-opacity=\"1\" /><path clip-path=\"url(#clip660)\" d=\"M 0 0 M685.505 36.8349 L686.569 36.8349 L686.569 43.3164 L685.505 43.3164 L685.505 36.8349 M685.505 34.3118 L686.569 34.3118 L686.569 35.6602 L685.505 35.6602 L685.505 34.3118 Z\" fill=\"#000000\" fill-rule=\"evenodd\" fill-opacity=\"1\" /><path clip-path=\"url(#clip660)\" d=\"M 0 0 M691.818 37.0259 L691.818 38.0329 Q691.367 37.8014 690.881 37.6856 Q690.395 37.5699 689.874 37.5699 Q689.081 37.5699 688.682 37.8129 Q688.288 38.056 688.288 38.5421 Q688.288 38.9125 688.572 39.1266 Q688.855 39.3349 689.712 39.5259 L690.076 39.6069 Q691.211 39.85 691.685 40.2956 Q692.165 40.7354 692.165 41.5282 Q692.165 42.431 691.448 42.9576 Q690.736 43.4842 689.486 43.4842 Q688.965 43.4842 688.398 43.38 Q687.837 43.2817 687.212 43.0791 L687.212 41.9796 Q687.802 42.2863 688.375 42.4426 Q688.948 42.593 689.509 42.593 Q690.262 42.593 690.667 42.3384 Q691.072 42.078 691.072 41.6092 Q691.072 41.1752 690.777 40.9437 Q690.487 40.7122 689.498 40.4981 L689.127 40.4113 Q688.138 40.203 687.698 39.7747 Q687.258 39.3407 687.258 38.5884 Q687.258 37.6741 687.906 37.1764 Q688.554 36.6787 689.747 36.6787 Q690.337 36.6787 690.858 36.7655 Q691.378 36.8523 691.818 37.0259 Z\" fill=\"#000000\" fill-rule=\"evenodd\" fill-opacity=\"1\" /><path clip-path=\"url(#clip660)\" d=\"M 0 0 M697.947 37.0838 L697.947 38.0791 Q697.495 37.8303 697.038 37.7088 Q696.587 37.5815 696.124 37.5815 Q695.088 37.5815 694.515 38.2412 Q693.942 38.8951 693.942 40.0815 Q693.942 41.2678 694.515 41.9275 Q695.088 42.5814 696.124 42.5814 Q696.587 42.5814 697.038 42.4599 Q697.495 42.3326 697.947 42.0838 L697.947 43.0675 Q697.501 43.2759 697.021 43.38 Q696.546 43.4842 696.008 43.4842 Q694.544 43.4842 693.682 42.5641 Q692.819 41.6439 692.819 40.0815 Q692.819 38.4958 693.687 37.5873 Q694.561 36.6787 696.077 36.6787 Q696.569 36.6787 697.038 36.7829 Q697.507 36.8812 697.947 37.0838 Z\" fill=\"#000000\" fill-rule=\"evenodd\" fill-opacity=\"1\" /><path clip-path=\"url(#clip660)\" d=\"M 0 0 M702.819 37.8303 Q702.64 37.7261 702.426 37.6798 Q702.218 37.6278 701.963 37.6278 Q701.06 37.6278 700.574 38.218 Q700.094 38.8025 700.094 39.9021 L700.094 43.3164 L699.023 43.3164 L699.023 36.8349 L700.094 36.8349 L700.094 37.8419 Q700.429 37.2516 700.968 36.968 Q701.506 36.6787 702.275 36.6787 Q702.385 36.6787 702.518 36.6961 Q702.652 36.7076 702.814 36.7366 L702.819 37.8303 Z\" fill=\"#000000\" fill-rule=\"evenodd\" fill-opacity=\"1\" /><path clip-path=\"url(#clip660)\" d=\"M 0 0 M709.22 39.8095 L709.22 40.3303 L704.324 40.3303 Q704.393 41.4298 704.984 42.0085 Q705.58 42.5814 706.639 42.5814 Q707.252 42.5814 707.825 42.431 Q708.404 42.2805 708.971 41.9796 L708.971 42.9865 Q708.398 43.2296 707.796 43.3569 Q707.194 43.4842 706.575 43.4842 Q705.024 43.4842 704.116 42.5814 Q703.213 41.6787 703.213 40.1393 Q703.213 38.5479 704.069 37.6162 Q704.932 36.6787 706.39 36.6787 Q707.698 36.6787 708.456 37.5236 Q709.22 38.3627 709.22 39.8095 M708.155 39.497 Q708.143 38.6231 707.663 38.1023 Q707.189 37.5815 706.402 37.5815 Q705.51 37.5815 704.972 38.0849 Q704.44 38.5884 704.359 39.5028 L708.155 39.497 Z\" fill=\"#000000\" fill-rule=\"evenodd\" fill-opacity=\"1\" /><path clip-path=\"url(#clip660)\" d=\"M 0 0 M711.39 34.9947 L711.39 36.8349 L713.583 36.8349 L713.583 37.6625 L711.39 37.6625 L711.39 41.181 Q711.39 41.9738 711.604 42.1995 Q711.824 42.4252 712.489 42.4252 L713.583 42.4252 L713.583 43.3164 L712.489 43.3164 Q711.257 43.3164 710.788 42.8592 Q710.319 42.3963 710.319 41.181 L710.319 37.6625 L709.538 37.6625 L709.538 36.8349 L710.319 36.8349 L710.319 34.9947 L711.39 34.9947 Z\" fill=\"#000000\" fill-rule=\"evenodd\" fill-opacity=\"1\" /><path clip-path=\"url(#clip660)\" d=\"M 0 0 M714.7 36.8349 L715.765 36.8349 L715.765 43.3164 L714.7 43.3164 L714.7 36.8349 M714.7 34.3118 L715.765 34.3118 L715.765 35.6602 L714.7 35.6602 L714.7 34.3118 Z\" fill=\"#000000\" fill-rule=\"evenodd\" fill-opacity=\"1\" /><path clip-path=\"url(#clip660)\" d=\"M 0 0 M716.419 36.8349 L721.477 36.8349 L721.477 37.8072 L717.472 42.4657 L721.477 42.4657 L721.477 43.3164 L716.274 43.3164 L716.274 42.3442 L720.279 37.6856 L716.419 37.6856 L716.419 36.8349 Z\" fill=\"#000000\" fill-rule=\"evenodd\" fill-opacity=\"1\" /><path clip-path=\"url(#clip660)\" d=\"M 0 0 M725.539 40.0583 Q724.249 40.0583 723.751 40.3534 Q723.253 40.6486 723.253 41.3604 Q723.253 41.9275 723.624 42.2632 Q724 42.593 724.642 42.593 Q725.528 42.593 726.06 41.968 Q726.598 41.3372 726.598 40.2956 L726.598 40.0583 L725.539 40.0583 M727.663 39.6185 L727.663 43.3164 L726.598 43.3164 L726.598 42.3326 Q726.234 42.9229 725.69 43.2064 Q725.146 43.4842 724.359 43.4842 Q723.363 43.4842 722.773 42.9287 Q722.188 42.3673 722.188 41.4298 Q722.188 40.3361 722.918 39.7805 Q723.653 39.225 725.105 39.225 L726.598 39.225 L726.598 39.1208 Q726.598 38.3859 726.112 37.9866 Q725.632 37.5815 724.758 37.5815 Q724.202 37.5815 723.676 37.7146 Q723.149 37.8477 722.663 38.1139 L722.663 37.1301 Q723.247 36.9044 723.797 36.7944 Q724.347 36.6787 724.868 36.6787 Q726.274 36.6787 726.969 37.4079 Q727.663 38.137 727.663 39.6185 Z\" fill=\"#000000\" fill-rule=\"evenodd\" fill-opacity=\"1\" /><path clip-path=\"url(#clip660)\" d=\"M 0 0 M729.833 34.9947 L729.833 36.8349 L732.026 36.8349 L732.026 37.6625 L729.833 37.6625 L729.833 41.181 Q729.833 41.9738 730.047 42.1995 Q730.267 42.4252 730.933 42.4252 L732.026 42.4252 L732.026 43.3164 L730.933 43.3164 Q729.7 43.3164 729.231 42.8592 Q728.762 42.3963 728.762 41.181 L728.762 37.6625 L727.981 37.6625 L727.981 36.8349 L728.762 36.8349 L728.762 34.9947 L729.833 34.9947 Z\" fill=\"#000000\" fill-rule=\"evenodd\" fill-opacity=\"1\" /><path clip-path=\"url(#clip660)\" d=\"M 0 0 M733.143 36.8349 L734.208 36.8349 L734.208 43.3164 L733.143 43.3164 L733.143 36.8349 M733.143 34.3118 L734.208 34.3118 L734.208 35.6602 L733.143 35.6602 L733.143 34.3118 Z\" fill=\"#000000\" fill-rule=\"evenodd\" fill-opacity=\"1\" /><path clip-path=\"url(#clip660)\" d=\"M 0 0 M737.837 37.5815 Q736.98 37.5815 736.482 38.2528 Q735.985 38.9183 735.985 40.0815 Q735.985 41.2446 736.477 41.9159 Q736.974 42.5814 737.837 42.5814 Q738.687 42.5814 739.185 41.9101 Q739.683 41.2389 739.683 40.0815 Q739.683 38.9298 739.185 38.2585 Q738.687 37.5815 737.837 37.5815 M737.837 36.6787 Q739.225 36.6787 740.018 37.5815 Q740.811 38.4842 740.811 40.0815 Q740.811 41.6729 740.018 42.5814 Q739.225 43.4842 737.837 43.4842 Q736.442 43.4842 735.649 42.5814 Q734.862 41.6729 734.862 40.0815 Q734.862 38.4842 735.649 37.5815 Q736.442 36.6787 737.837 36.6787 Z\" fill=\"#000000\" fill-rule=\"evenodd\" fill-opacity=\"1\" /><path clip-path=\"url(#clip660)\" d=\"M 0 0 M747.316 39.4044 L747.316 43.3164 L746.251 43.3164 L746.251 39.4391 Q746.251 38.519 745.892 38.0618 Q745.533 37.6046 744.816 37.6046 Q743.953 37.6046 743.456 38.1544 Q742.958 38.7041 742.958 39.6532 L742.958 43.3164 L741.887 43.3164 L741.887 36.8349 L742.958 36.8349 L742.958 37.8419 Q743.34 37.2574 743.855 36.968 Q744.376 36.6787 745.053 36.6787 Q746.17 36.6787 746.743 37.3731 Q747.316 38.0618 747.316 39.4044 Z\" fill=\"#000000\" fill-rule=\"evenodd\" fill-opacity=\"1\" /></svg>\n"
      ],
      "text/html": [
       "<?xml version=\"1.0\" encoding=\"utf-8\"?>\n",
       "<svg xmlns=\"http://www.w3.org/2000/svg\" xmlns:xlink=\"http://www.w3.org/1999/xlink\" width=\"200\" height=\"100\" viewBox=\"0 0 800 400\">\n",
       "<defs>\n",
       "  <clipPath id=\"clip710\">\n",
       "    <rect x=\"0\" y=\"0\" width=\"800\" height=\"400\"/>\n",
       "  </clipPath>\n",
       "</defs>\n",
       "<path clip-path=\"url(#clip710)\" d=\"\n",
       "M0 400 L800 400 L800 0 L0 0  Z\n",
       "  \" fill=\"#ffffff\" fill-rule=\"evenodd\" fill-opacity=\"1\"/>\n",
       "<defs>\n",
       "  <clipPath id=\"clip711\">\n",
       "    <rect x=\"160\" y=\"0\" width=\"561\" height=\"400\"/>\n",
       "  </clipPath>\n",
       "</defs>\n",
       "<path clip-path=\"url(#clip710)\" d=\"\n",
       "M52.4689 373.772 L788.189 373.772 L788.189 11.811 L52.4689 11.811  Z\n",
       "  \" fill=\"#ffffff\" fill-rule=\"evenodd\" fill-opacity=\"1\"/>\n",
       "<defs>\n",
       "  <clipPath id=\"clip712\">\n",
       "    <rect x=\"52\" y=\"11\" width=\"737\" height=\"363\"/>\n",
       "  </clipPath>\n",
       "</defs>\n",
       "<polyline clip-path=\"url(#clip712)\" style=\"stroke:#000000; stroke-width:0.5; stroke-opacity:0.1; fill:none\" points=\"\n",
       "  70.7496,373.772 70.7496,11.811 \n",
       "  \"/>\n",
       "<polyline clip-path=\"url(#clip712)\" style=\"stroke:#000000; stroke-width:0.5; stroke-opacity:0.1; fill:none\" points=\"\n",
       "  196.261,373.772 196.261,11.811 \n",
       "  \"/>\n",
       "<polyline clip-path=\"url(#clip712)\" style=\"stroke:#000000; stroke-width:0.5; stroke-opacity:0.1; fill:none\" points=\"\n",
       "  321.771,373.772 321.771,11.811 \n",
       "  \"/>\n",
       "<polyline clip-path=\"url(#clip712)\" style=\"stroke:#000000; stroke-width:0.5; stroke-opacity:0.1; fill:none\" points=\"\n",
       "  447.282,373.772 447.282,11.811 \n",
       "  \"/>\n",
       "<polyline clip-path=\"url(#clip712)\" style=\"stroke:#000000; stroke-width:0.5; stroke-opacity:0.1; fill:none\" points=\"\n",
       "  572.793,373.772 572.793,11.811 \n",
       "  \"/>\n",
       "<polyline clip-path=\"url(#clip712)\" style=\"stroke:#000000; stroke-width:0.5; stroke-opacity:0.1; fill:none\" points=\"\n",
       "  698.304,373.772 698.304,11.811 \n",
       "  \"/>\n",
       "<polyline clip-path=\"url(#clip710)\" style=\"stroke:#000000; stroke-width:1; stroke-opacity:1; fill:none\" points=\"\n",
       "  52.4689,373.772 788.189,373.772 \n",
       "  \"/>\n",
       "<polyline clip-path=\"url(#clip710)\" style=\"stroke:#000000; stroke-width:1; stroke-opacity:1; fill:none\" points=\"\n",
       "  70.7496,373.772 70.7496,369.428 \n",
       "  \"/>\n",
       "<polyline clip-path=\"url(#clip710)\" style=\"stroke:#000000; stroke-width:1; stroke-opacity:1; fill:none\" points=\"\n",
       "  196.261,373.772 196.261,369.428 \n",
       "  \"/>\n",
       "<polyline clip-path=\"url(#clip710)\" style=\"stroke:#000000; stroke-width:1; stroke-opacity:1; fill:none\" points=\"\n",
       "  321.771,373.772 321.771,369.428 \n",
       "  \"/>\n",
       "<polyline clip-path=\"url(#clip710)\" style=\"stroke:#000000; stroke-width:1; stroke-opacity:1; fill:none\" points=\"\n",
       "  447.282,373.772 447.282,369.428 \n",
       "  \"/>\n",
       "<polyline clip-path=\"url(#clip710)\" style=\"stroke:#000000; stroke-width:1; stroke-opacity:1; fill:none\" points=\"\n",
       "  572.793,373.772 572.793,369.428 \n",
       "  \"/>\n",
       "<polyline clip-path=\"url(#clip710)\" style=\"stroke:#000000; stroke-width:1; stroke-opacity:1; fill:none\" points=\"\n",
       "  698.304,373.772 698.304,369.428 \n",
       "  \"/>\n",
       "<path clip-path=\"url(#clip710)\" d=\"M 0 0 M70.7496 382.67 Q69.8468 382.67 69.3897 383.561 Q68.9383 384.446 68.9383 386.229 Q68.9383 388.005 69.3897 388.896 Q69.8468 389.782 70.7496 389.782 Q71.6582 389.782 72.1096 388.896 Q72.5667 388.005 72.5667 386.229 Q72.5667 384.446 72.1096 383.561 Q71.6582 382.67 70.7496 382.67 M70.7496 381.744 Q72.2021 381.744 72.966 382.895 Q73.7357 384.041 73.7357 386.229 Q73.7357 388.41 72.966 389.562 Q72.2021 390.708 70.7496 390.708 Q69.2971 390.708 68.5274 389.562 Q67.7635 388.41 67.7635 386.229 Q67.7635 384.041 68.5274 382.895 Q69.2971 381.744 70.7496 381.744 Z\" fill=\"#000000\" fill-rule=\"evenodd\" fill-opacity=\"1\" /><path clip-path=\"url(#clip710)\" d=\"M 0 0 M193.83 381.9 L198.419 381.9 L198.419 382.884 L194.901 382.884 L194.901 385.002 Q195.155 384.915 195.41 384.874 Q195.664 384.828 195.919 384.828 Q197.366 384.828 198.211 385.621 Q199.056 386.414 199.056 387.768 Q199.056 389.163 198.188 389.938 Q197.32 390.708 195.74 390.708 Q195.196 390.708 194.629 390.615 Q194.067 390.523 193.465 390.337 L193.465 389.163 Q193.986 389.446 194.542 389.585 Q195.097 389.724 195.717 389.724 Q196.718 389.724 197.302 389.197 Q197.887 388.671 197.887 387.768 Q197.887 386.865 197.302 386.339 Q196.718 385.812 195.717 385.812 Q195.248 385.812 194.779 385.916 Q194.316 386.02 193.83 386.24 L193.83 381.9 Z\" fill=\"#000000\" fill-rule=\"evenodd\" fill-opacity=\"1\" /><path clip-path=\"url(#clip710)\" d=\"M 0 0 M315.99 389.556 L317.9 389.556 L317.9 382.965 L315.822 383.381 L315.822 382.317 L317.888 381.9 L319.057 381.9 L319.057 389.556 L320.967 389.556 L320.967 390.54 L315.99 390.54 L315.99 389.556 Z\" fill=\"#000000\" fill-rule=\"evenodd\" fill-opacity=\"1\" /><path clip-path=\"url(#clip710)\" d=\"M 0 0 M324.734 382.67 Q323.832 382.67 323.374 383.561 Q322.923 384.446 322.923 386.229 Q322.923 388.005 323.374 388.896 Q323.832 389.782 324.734 389.782 Q325.643 389.782 326.094 388.896 Q326.552 388.005 326.552 386.229 Q326.552 384.446 326.094 383.561 Q325.643 382.67 324.734 382.67 M324.734 381.744 Q326.187 381.744 326.951 382.895 Q327.721 384.041 327.721 386.229 Q327.721 388.41 326.951 389.562 Q326.187 390.708 324.734 390.708 Q323.282 390.708 322.512 389.562 Q321.748 388.41 321.748 386.229 Q321.748 384.041 322.512 382.895 Q323.282 381.744 324.734 381.744 Z\" fill=\"#000000\" fill-rule=\"evenodd\" fill-opacity=\"1\" /><path clip-path=\"url(#clip710)\" d=\"M 0 0 M441.626 389.556 L443.535 389.556 L443.535 382.965 L441.458 383.381 L441.458 382.317 L443.524 381.9 L444.693 381.9 L444.693 389.556 L446.602 389.556 L446.602 390.54 L441.626 390.54 L441.626 389.556 Z\" fill=\"#000000\" fill-rule=\"evenodd\" fill-opacity=\"1\" /><path clip-path=\"url(#clip710)\" d=\"M 0 0 M447.881 381.9 L452.47 381.9 L452.47 382.884 L448.952 382.884 L448.952 385.002 Q449.207 384.915 449.461 384.874 Q449.716 384.828 449.97 384.828 Q451.417 384.828 452.262 385.621 Q453.107 386.414 453.107 387.768 Q453.107 389.163 452.239 389.938 Q451.371 390.708 449.791 390.708 Q449.247 390.708 448.68 390.615 Q448.119 390.523 447.517 390.337 L447.517 389.163 Q448.038 389.446 448.593 389.585 Q449.149 389.724 449.768 389.724 Q450.769 389.724 451.354 389.197 Q451.938 388.671 451.938 387.768 Q451.938 386.865 451.354 386.339 Q450.769 385.812 449.768 385.812 Q449.299 385.812 448.83 385.916 Q448.367 386.02 447.881 386.24 L447.881 381.9 Z\" fill=\"#000000\" fill-rule=\"evenodd\" fill-opacity=\"1\" /><path clip-path=\"url(#clip710)\" d=\"M 0 0 M568.08 389.556 L572.16 389.556 L572.16 390.54 L566.674 390.54 L566.674 389.556 Q567.339 388.868 568.485 387.71 Q569.637 386.547 569.932 386.211 Q570.493 385.581 570.713 385.146 Q570.939 384.707 570.939 384.284 Q570.939 383.596 570.453 383.162 Q569.972 382.728 569.197 382.728 Q568.647 382.728 568.034 382.918 Q567.426 383.109 566.731 383.497 L566.731 382.317 Q567.438 382.033 568.051 381.888 Q568.664 381.744 569.174 381.744 Q570.516 381.744 571.315 382.415 Q572.113 383.086 572.113 384.209 Q572.113 384.741 571.911 385.222 Q571.714 385.696 571.187 386.344 Q571.043 386.512 570.267 387.317 Q569.492 388.115 568.08 389.556 Z\" fill=\"#000000\" fill-rule=\"evenodd\" fill-opacity=\"1\" /><path clip-path=\"url(#clip710)\" d=\"M 0 0 M575.927 382.67 Q575.024 382.67 574.567 383.561 Q574.116 384.446 574.116 386.229 Q574.116 388.005 574.567 388.896 Q575.024 389.782 575.927 389.782 Q576.836 389.782 577.287 388.896 Q577.744 388.005 577.744 386.229 Q577.744 384.446 577.287 383.561 Q576.836 382.67 575.927 382.67 M575.927 381.744 Q577.38 381.744 578.143 382.895 Q578.913 384.041 578.913 386.229 Q578.913 388.41 578.143 389.562 Q577.38 390.708 575.927 390.708 Q574.475 390.708 573.705 389.562 Q572.941 388.41 572.941 386.229 Q572.941 384.041 573.705 382.895 Q574.475 381.744 575.927 381.744 Z\" fill=\"#000000\" fill-rule=\"evenodd\" fill-opacity=\"1\" /><path clip-path=\"url(#clip710)\" d=\"M 0 0 M693.715 389.556 L697.795 389.556 L697.795 390.54 L692.309 390.54 L692.309 389.556 Q692.974 388.868 694.12 387.71 Q695.272 386.547 695.567 386.211 Q696.128 385.581 696.348 385.146 Q696.574 384.707 696.574 384.284 Q696.574 383.596 696.088 383.162 Q695.608 382.728 694.832 382.728 Q694.282 382.728 693.669 382.918 Q693.061 383.109 692.367 383.497 L692.367 382.317 Q693.073 382.033 693.686 381.888 Q694.3 381.744 694.809 381.744 Q696.152 381.744 696.95 382.415 Q697.749 383.086 697.749 384.209 Q697.749 384.741 697.546 385.222 Q697.349 385.696 696.823 386.344 Q696.678 386.512 695.903 387.317 Q695.127 388.115 693.715 389.556 Z\" fill=\"#000000\" fill-rule=\"evenodd\" fill-opacity=\"1\" /><path clip-path=\"url(#clip710)\" d=\"M 0 0 M699.074 381.9 L703.663 381.9 L703.663 382.884 L700.145 382.884 L700.145 385.002 Q700.399 384.915 700.654 384.874 Q700.908 384.828 701.163 384.828 Q702.61 384.828 703.455 385.621 Q704.3 386.414 704.3 387.768 Q704.3 389.163 703.432 389.938 Q702.564 390.708 700.984 390.708 Q700.44 390.708 699.873 390.615 Q699.311 390.523 698.709 390.337 L698.709 389.163 Q699.23 389.446 699.786 389.585 Q700.341 389.724 700.961 389.724 Q701.962 389.724 702.546 389.197 Q703.131 388.671 703.131 387.768 Q703.131 386.865 702.546 386.339 Q701.962 385.812 700.961 385.812 Q700.492 385.812 700.023 385.916 Q699.56 386.02 699.074 386.24 L699.074 381.9 Z\" fill=\"#000000\" fill-rule=\"evenodd\" fill-opacity=\"1\" /><polyline clip-path=\"url(#clip712)\" style=\"stroke:#000000; stroke-width:0.5; stroke-opacity:0.1; fill:none\" points=\"\n",
       "  52.4689,365.996 788.189,365.996 \n",
       "  \"/>\n",
       "<polyline clip-path=\"url(#clip712)\" style=\"stroke:#000000; stroke-width:0.5; stroke-opacity:0.1; fill:none\" points=\"\n",
       "  52.4689,265.177 788.189,265.177 \n",
       "  \"/>\n",
       "<polyline clip-path=\"url(#clip712)\" style=\"stroke:#000000; stroke-width:0.5; stroke-opacity:0.1; fill:none\" points=\"\n",
       "  52.4689,164.359 788.189,164.359 \n",
       "  \"/>\n",
       "<polyline clip-path=\"url(#clip712)\" style=\"stroke:#000000; stroke-width:0.5; stroke-opacity:0.1; fill:none\" points=\"\n",
       "  52.4689,63.5406 788.189,63.5406 \n",
       "  \"/>\n",
       "<polyline clip-path=\"url(#clip710)\" style=\"stroke:#000000; stroke-width:1; stroke-opacity:1; fill:none\" points=\"\n",
       "  52.4689,373.772 52.4689,11.811 \n",
       "  \"/>\n",
       "<polyline clip-path=\"url(#clip710)\" style=\"stroke:#000000; stroke-width:1; stroke-opacity:1; fill:none\" points=\"\n",
       "  52.4689,365.996 61.2976,365.996 \n",
       "  \"/>\n",
       "<polyline clip-path=\"url(#clip710)\" style=\"stroke:#000000; stroke-width:1; stroke-opacity:1; fill:none\" points=\"\n",
       "  52.4689,265.177 61.2976,265.177 \n",
       "  \"/>\n",
       "<polyline clip-path=\"url(#clip710)\" style=\"stroke:#000000; stroke-width:1; stroke-opacity:1; fill:none\" points=\"\n",
       "  52.4689,164.359 61.2976,164.359 \n",
       "  \"/>\n",
       "<polyline clip-path=\"url(#clip710)\" style=\"stroke:#000000; stroke-width:1; stroke-opacity:1; fill:none\" points=\"\n",
       "  52.4689,63.5406 61.2976,63.5406 \n",
       "  \"/>\n",
       "<path clip-path=\"url(#clip710)\" d=\"M 0 0 M14.7341 362.445 Q13.8314 362.445 13.3742 363.336 Q12.9228 364.222 12.9228 366.004 Q12.9228 367.781 13.3742 368.672 Q13.8314 369.557 14.7341 369.557 Q15.6427 369.557 16.0941 368.672 Q16.5512 367.781 16.5512 366.004 Q16.5512 364.222 16.0941 363.336 Q15.6427 362.445 14.7341 362.445 M14.7341 361.519 Q16.1867 361.519 16.9505 362.671 Q17.7202 363.817 17.7202 366.004 Q17.7202 368.186 16.9505 369.338 Q16.1867 370.483 14.7341 370.483 Q13.2816 370.483 12.5119 369.338 Q11.748 368.186 11.748 366.004 Q11.748 363.817 12.5119 362.671 Q13.2816 361.519 14.7341 361.519 Z\" fill=\"#000000\" fill-rule=\"evenodd\" fill-opacity=\"1\" /><path clip-path=\"url(#clip710)\" d=\"M 0 0 M18.9876 368.846 L20.2086 368.846 L20.2086 370.316 L18.9876 370.316 L18.9876 368.846 Z\" fill=\"#000000\" fill-rule=\"evenodd\" fill-opacity=\"1\" /><path clip-path=\"url(#clip710)\" d=\"M 0 0 M23.976 362.445 Q23.0732 362.445 22.616 363.336 Q22.1646 364.222 22.1646 366.004 Q22.1646 367.781 22.616 368.672 Q23.0732 369.557 23.976 369.557 Q24.8845 369.557 25.3359 368.672 Q25.7931 367.781 25.7931 366.004 Q25.7931 364.222 25.3359 363.336 Q24.8845 362.445 23.976 362.445 M23.976 361.519 Q25.4285 361.519 26.1924 362.671 Q26.9621 363.817 26.9621 366.004 Q26.9621 368.186 26.1924 369.338 Q25.4285 370.483 23.976 370.483 Q22.5234 370.483 21.7538 369.338 Q20.9899 368.186 20.9899 366.004 Q20.9899 363.817 21.7538 362.671 Q22.5234 361.519 23.976 361.519 Z\" fill=\"#000000\" fill-rule=\"evenodd\" fill-opacity=\"1\" /><path clip-path=\"url(#clip710)\" d=\"M 0 0 M30.7294 362.445 Q29.8266 362.445 29.3695 363.336 Q28.9181 364.222 28.9181 366.004 Q28.9181 367.781 29.3695 368.672 Q29.8266 369.557 30.7294 369.557 Q31.638 369.557 32.0894 368.672 Q32.5465 367.781 32.5465 366.004 Q32.5465 364.222 32.0894 363.336 Q31.638 362.445 30.7294 362.445 M30.7294 361.519 Q32.1819 361.519 32.9458 362.671 Q33.7155 363.817 33.7155 366.004 Q33.7155 368.186 32.9458 369.338 Q32.1819 370.483 30.7294 370.483 Q29.2769 370.483 28.5072 369.338 Q27.7433 368.186 27.7433 366.004 Q27.7433 363.817 28.5072 362.671 Q29.2769 361.519 30.7294 361.519 Z\" fill=\"#000000\" fill-rule=\"evenodd\" fill-opacity=\"1\" /><path clip-path=\"url(#clip710)\" d=\"M 0 0 M37.4828 362.445 Q36.5801 362.445 36.1229 363.336 Q35.6715 364.222 35.6715 366.004 Q35.6715 367.781 36.1229 368.672 Q36.5801 369.557 37.4828 369.557 Q38.3914 369.557 38.8428 368.672 Q39.3 367.781 39.3 366.004 Q39.3 364.222 38.8428 363.336 Q38.3914 362.445 37.4828 362.445 M37.4828 361.519 Q38.9354 361.519 39.6993 362.671 Q40.4689 363.817 40.4689 366.004 Q40.4689 368.186 39.6993 369.338 Q38.9354 370.483 37.4828 370.483 Q36.0303 370.483 35.2606 369.338 Q34.4968 368.186 34.4968 366.004 Q34.4968 363.817 35.2606 362.671 Q36.0303 361.519 37.4828 361.519 Z\" fill=\"#000000\" fill-rule=\"evenodd\" fill-opacity=\"1\" /><path clip-path=\"url(#clip710)\" d=\"M 0 0 M14.983 261.627 Q14.0802 261.627 13.623 262.518 Q13.1716 263.403 13.1716 265.186 Q13.1716 266.962 13.623 267.854 Q14.0802 268.739 14.983 268.739 Q15.8915 268.739 16.3429 267.854 Q16.8001 266.962 16.8001 265.186 Q16.8001 263.403 16.3429 262.518 Q15.8915 261.627 14.983 261.627 M14.983 260.701 Q16.4355 260.701 17.1994 261.853 Q17.9691 262.998 17.9691 265.186 Q17.9691 267.368 17.1994 268.519 Q16.4355 269.665 14.983 269.665 Q13.5304 269.665 12.7608 268.519 Q11.9969 267.368 11.9969 265.186 Q11.9969 262.998 12.7608 261.853 Q13.5304 260.701 14.983 260.701 Z\" fill=\"#000000\" fill-rule=\"evenodd\" fill-opacity=\"1\" /><path clip-path=\"url(#clip710)\" d=\"M 0 0 M19.2364 268.027 L20.4575 268.027 L20.4575 269.497 L19.2364 269.497 L19.2364 268.027 Z\" fill=\"#000000\" fill-rule=\"evenodd\" fill-opacity=\"1\" /><path clip-path=\"url(#clip710)\" d=\"M 0 0 M24.2248 261.627 Q23.322 261.627 22.8649 262.518 Q22.4135 263.403 22.4135 265.186 Q22.4135 266.962 22.8649 267.854 Q23.322 268.739 24.2248 268.739 Q25.1334 268.739 25.5848 267.854 Q26.0419 266.962 26.0419 265.186 Q26.0419 263.403 25.5848 262.518 Q25.1334 261.627 24.2248 261.627 M24.2248 260.701 Q25.6774 260.701 26.4412 261.853 Q27.2109 262.998 27.2109 265.186 Q27.2109 267.368 26.4412 268.519 Q25.6774 269.665 24.2248 269.665 Q22.7723 269.665 22.0026 268.519 Q21.2387 267.368 21.2387 265.186 Q21.2387 262.998 22.0026 261.853 Q22.7723 260.701 24.2248 260.701 Z\" fill=\"#000000\" fill-rule=\"evenodd\" fill-opacity=\"1\" /><path clip-path=\"url(#clip710)\" d=\"M 0 0 M30.9783 261.627 Q30.0755 261.627 29.6183 262.518 Q29.1669 263.403 29.1669 265.186 Q29.1669 266.962 29.6183 267.854 Q30.0755 268.739 30.9783 268.739 Q31.8868 268.739 32.3382 267.854 Q32.7954 266.962 32.7954 265.186 Q32.7954 263.403 32.3382 262.518 Q31.8868 261.627 30.9783 261.627 M30.9783 260.701 Q32.4308 260.701 33.1947 261.853 Q33.9643 262.998 33.9643 265.186 Q33.9643 267.368 33.1947 268.519 Q32.4308 269.665 30.9783 269.665 Q29.5257 269.665 28.756 268.519 Q27.9922 267.368 27.9922 265.186 Q27.9922 262.998 28.756 261.853 Q29.5257 260.701 30.9783 260.701 Z\" fill=\"#000000\" fill-rule=\"evenodd\" fill-opacity=\"1\" /><path clip-path=\"url(#clip710)\" d=\"M 0 0 M35.2433 260.857 L39.8324 260.857 L39.8324 261.841 L36.3139 261.841 L36.3139 263.959 Q36.5685 263.872 36.8231 263.832 Q37.0778 263.785 37.3324 263.785 Q38.7791 263.785 39.624 264.578 Q40.4689 265.371 40.4689 266.725 Q40.4689 268.12 39.6009 268.895 Q38.7328 269.665 37.153 269.665 Q36.609 269.665 36.0419 269.572 Q35.4805 269.48 34.8787 269.295 L34.8787 268.12 Q35.3995 268.403 35.9551 268.542 Q36.5106 268.681 37.1298 268.681 Q38.131 268.681 38.7155 268.155 Q39.3 267.628 39.3 266.725 Q39.3 265.822 38.7155 265.296 Q38.131 264.769 37.1298 264.769 Q36.6611 264.769 36.1923 264.873 Q35.7294 264.978 35.2433 265.197 L35.2433 260.857 Z\" fill=\"#000000\" fill-rule=\"evenodd\" fill-opacity=\"1\" /><path clip-path=\"url(#clip710)\" d=\"M 0 0 M15.0408 160.809 Q14.1381 160.809 13.6809 161.7 Q13.2295 162.585 13.2295 164.368 Q13.2295 166.144 13.6809 167.035 Q14.1381 167.921 15.0408 167.921 Q15.9494 167.921 16.4008 167.035 Q16.858 166.144 16.858 164.368 Q16.858 162.585 16.4008 161.7 Q15.9494 160.809 15.0408 160.809 M15.0408 159.883 Q16.4934 159.883 17.2573 161.034 Q18.0269 162.18 18.0269 164.368 Q18.0269 166.549 17.2573 167.701 Q16.4934 168.847 15.0408 168.847 Q13.5883 168.847 12.8186 167.701 Q12.0547 166.549 12.0547 164.368 Q12.0547 162.18 12.8186 161.034 Q13.5883 159.883 15.0408 159.883 Z\" fill=\"#000000\" fill-rule=\"evenodd\" fill-opacity=\"1\" /><path clip-path=\"url(#clip710)\" d=\"M 0 0 M19.2943 167.209 L20.5153 167.209 L20.5153 168.679 L19.2943 168.679 L19.2943 167.209 Z\" fill=\"#000000\" fill-rule=\"evenodd\" fill-opacity=\"1\" /><path clip-path=\"url(#clip710)\" d=\"M 0 0 M24.2827 160.809 Q23.3799 160.809 22.9227 161.7 Q22.4714 162.585 22.4714 164.368 Q22.4714 166.144 22.9227 167.035 Q23.3799 167.921 24.2827 167.921 Q25.1912 167.921 25.6426 167.035 Q26.0998 166.144 26.0998 164.368 Q26.0998 162.585 25.6426 161.7 Q25.1912 160.809 24.2827 160.809 M24.2827 159.883 Q25.7352 159.883 26.4991 161.034 Q27.2688 162.18 27.2688 164.368 Q27.2688 166.549 26.4991 167.701 Q25.7352 168.847 24.2827 168.847 Q22.8301 168.847 22.0605 167.701 Q21.2966 166.549 21.2966 164.368 Q21.2966 162.18 22.0605 161.034 Q22.8301 159.883 24.2827 159.883 Z\" fill=\"#000000\" fill-rule=\"evenodd\" fill-opacity=\"1\" /><path clip-path=\"url(#clip710)\" d=\"M 0 0 M28.7387 167.695 L30.6484 167.695 L30.6484 161.104 L28.5709 161.52 L28.5709 160.456 L30.6368 160.039 L31.8058 160.039 L31.8058 167.695 L33.7155 167.695 L33.7155 168.679 L28.7387 168.679 L28.7387 167.695 Z\" fill=\"#000000\" fill-rule=\"evenodd\" fill-opacity=\"1\" /><path clip-path=\"url(#clip710)\" d=\"M 0 0 M37.4828 160.809 Q36.5801 160.809 36.1229 161.7 Q35.6715 162.585 35.6715 164.368 Q35.6715 166.144 36.1229 167.035 Q36.5801 167.921 37.4828 167.921 Q38.3914 167.921 38.8428 167.035 Q39.3 166.144 39.3 164.368 Q39.3 162.585 38.8428 161.7 Q38.3914 160.809 37.4828 160.809 M37.4828 159.883 Q38.9354 159.883 39.6993 161.034 Q40.4689 162.18 40.4689 164.368 Q40.4689 166.549 39.6993 167.701 Q38.9354 168.847 37.4828 168.847 Q36.0303 168.847 35.2606 167.701 Q34.4968 166.549 34.4968 164.368 Q34.4968 162.18 35.2606 161.034 Q36.0303 159.883 37.4828 159.883 Z\" fill=\"#000000\" fill-rule=\"evenodd\" fill-opacity=\"1\" /><path clip-path=\"url(#clip710)\" d=\"M 0 0 M15.2897 59.9903 Q14.3869 59.9903 13.9297 60.8815 Q13.4783 61.7669 13.4783 63.5493 Q13.4783 65.3259 13.9297 66.2171 Q14.3869 67.1025 15.2897 67.1025 Q16.1982 67.1025 16.6496 66.2171 Q17.1068 65.3259 17.1068 63.5493 Q17.1068 61.7669 16.6496 60.8815 Q16.1982 59.9903 15.2897 59.9903 M15.2897 59.0644 Q16.7422 59.0644 17.5061 60.216 Q18.2758 61.3618 18.2758 63.5493 Q18.2758 65.731 17.5061 66.8826 Q16.7422 68.0284 15.2897 68.0284 Q13.8371 68.0284 13.0675 66.8826 Q12.3036 65.731 12.3036 63.5493 Q12.3036 61.3618 13.0675 60.216 Q13.8371 59.0644 15.2897 59.0644 Z\" fill=\"#000000\" fill-rule=\"evenodd\" fill-opacity=\"1\" /><path clip-path=\"url(#clip710)\" d=\"M 0 0 M19.5431 66.3907 L20.7642 66.3907 L20.7642 67.8606 L19.5431 67.8606 L19.5431 66.3907 Z\" fill=\"#000000\" fill-rule=\"evenodd\" fill-opacity=\"1\" /><path clip-path=\"url(#clip710)\" d=\"M 0 0 M24.5315 59.9903 Q23.6288 59.9903 23.1716 60.8815 Q22.7202 61.7669 22.7202 63.5493 Q22.7202 65.3259 23.1716 66.2171 Q23.6288 67.1025 24.5315 67.1025 Q25.4401 67.1025 25.8915 66.2171 Q26.3486 65.3259 26.3486 63.5493 Q26.3486 61.7669 25.8915 60.8815 Q25.4401 59.9903 24.5315 59.9903 M24.5315 59.0644 Q25.9841 59.0644 26.748 60.216 Q27.5176 61.3618 27.5176 63.5493 Q27.5176 65.731 26.748 66.8826 Q25.9841 68.0284 24.5315 68.0284 Q23.079 68.0284 22.3093 66.8826 Q21.5454 65.731 21.5454 63.5493 Q21.5454 61.3618 22.3093 60.216 Q23.079 59.0644 24.5315 59.0644 Z\" fill=\"#000000\" fill-rule=\"evenodd\" fill-opacity=\"1\" /><path clip-path=\"url(#clip710)\" d=\"M 0 0 M28.9875 66.8768 L30.8972 66.8768 L30.8972 60.2854 L28.8197 60.7021 L28.8197 59.6373 L30.8857 59.2206 L32.0546 59.2206 L32.0546 66.8768 L33.9643 66.8768 L33.9643 67.8606 L28.9875 67.8606 L28.9875 66.8768 Z\" fill=\"#000000\" fill-rule=\"evenodd\" fill-opacity=\"1\" /><path clip-path=\"url(#clip710)\" d=\"M 0 0 M35.2433 59.2206 L39.8324 59.2206 L39.8324 60.2044 L36.3139 60.2044 L36.3139 62.3224 Q36.5685 62.2356 36.8231 62.1951 Q37.0778 62.1488 37.3324 62.1488 Q38.7791 62.1488 39.624 62.9416 Q40.4689 63.7345 40.4689 65.0886 Q40.4689 66.4833 39.6009 67.2588 Q38.7328 68.0284 37.153 68.0284 Q36.609 68.0284 36.0419 67.9358 Q35.4805 67.8432 34.8787 67.6581 L34.8787 66.4833 Q35.3995 66.7669 35.9551 66.9057 Q36.5106 67.0446 37.1298 67.0446 Q38.131 67.0446 38.7155 66.518 Q39.3 65.9914 39.3 65.0886 Q39.3 64.1859 38.7155 63.6592 Q38.131 63.1326 37.1298 63.1326 Q36.6611 63.1326 36.1923 63.2368 Q35.7294 63.341 35.2433 63.5609 L35.2433 59.2206 Z\" fill=\"#000000\" fill-rule=\"evenodd\" fill-opacity=\"1\" /><polyline clip-path=\"url(#clip712)\" style=\"stroke:#009af9; stroke-width:1; stroke-opacity:1; fill:none\" points=\"\n",
       "  73.2912,171.185 73.8874,150.81 74.5463,115.11 75.268,101.827 76.0524,86.6321 76.8996,74.511 77.8096,59.1589 78.7823,54.684 79.8178,51.826 80.916,64.0861 \n",
       "  82.077,22.0552 83.3007,148.061 84.5872,172.452 85.9364,174.805 87.3484,178.441 88.8232,180.398 90.3607,173.016 91.961,177.988 93.624,179.454 95.3498,174.835 \n",
       "  97.1383,174.442 98.9896,172.623 100.904,171.125 102.88,171.765 104.92,169.988 107.022,169.526 109.187,168.92 111.415,167.948 113.706,167.607 116.059,166.384 \n",
       "  118.475,161.959 120.954,165.585 123.496,163.169 126.1,165.065 128.767,163.938 131.497,165.529 134.29,165.587 137.145,166.737 140.063,167.742 143.044,168.359 \n",
       "  146.088,169.981 149.194,171.696 152.363,173.265 155.595,175.215 158.89,177.115 162.247,178.354 165.667,178.876 169.15,182.344 172.696,185.492 176.304,188.424 \n",
       "  179.976,191.642 183.709,195.388 187.506,199.175 191.366,202.584 195.288,206.081 199.273,209.05 203.321,213.803 207.431,217.416 211.604,220.836 215.84,224.409 \n",
       "  220.139,228.7 224.501,232.123 228.925,235.467 233.412,239.278 237.962,242.792 242.574,245.884 247.249,249.295 251.987,252.56 256.788,255.016 261.652,257.573 \n",
       "  266.578,261.117 271.567,263.329 276.619,265.847 281.734,268.842 286.911,270.916 292.151,273.401 297.454,275.879 302.819,277.94 308.248,280.349 313.739,277.773 \n",
       "  319.293,283.796 324.909,287.655 330.589,289.733 336.331,291.813 342.136,293.84 348.003,295.865 353.934,297.845 359.927,299.805 365.983,301.716 372.101,303.35 \n",
       "  378.283,305.251 384.527,307.322 390.834,309.204 397.204,311.201 403.636,313.063 410.131,314.985 416.689,316.816 423.31,318.666 429.993,320.456 436.74,322.237 \n",
       "  443.548,323.975 450.42,325.689 457.355,327.366 464.352,329.013 471.412,330.625 478.535,332.202 485.72,333.743 492.968,335.249 500.279,336.717 507.653,338.147 \n",
       "  515.09,339.54 522.589,340.894 530.151,342.208 537.776,343.483 545.463,344.718 553.214,345.913 561.027,347.068 568.903,348.182 576.841,349.256 584.842,350.289 \n",
       "  592.907,351.281 601.033,352.234 609.223,353.146 617.475,354.005 625.79,354.754 634.168,355.587 642.609,356.378 651.112,357.127 659.678,357.835 668.307,358.503 \n",
       "  676.999,359.132 685.753,359.723 694.57,360.278 703.45,360.796 712.393,361.28 721.398,361.731 730.466,362.149 739.597,362.537 748.791,362.895 758.048,363.225 \n",
       "  767.367,363.528 \n",
       "  \"/>\n",
       "<path clip-path=\"url(#clip710)\" d=\"\n",
       "M611.728 54.1164 L763.665 54.1164 L763.665 23.8764 L611.728 23.8764  Z\n",
       "  \" fill=\"#ffffff\" fill-rule=\"evenodd\" fill-opacity=\"1\"/>\n",
       "<polyline clip-path=\"url(#clip710)\" style=\"stroke:#000000; stroke-width:1; stroke-opacity:1; fill:none\" points=\"\n",
       "  611.728,54.1164 763.665,54.1164 763.665,23.8764 611.728,23.8764 611.728,54.1164 \n",
       "  \"/>\n",
       "<polyline clip-path=\"url(#clip710)\" style=\"stroke:#009af9; stroke-width:1; stroke-opacity:1; fill:none\" points=\"\n",
       "  619.902,38.9964 668.95,38.9964 \n",
       "  \"/>\n",
       "<path clip-path=\"url(#clip710)\" d=\"M 0 0 M678.294 35.637 L678.294 42.3557 L679.706 42.3557 Q681.494 42.3557 682.322 41.5456 Q683.155 40.7354 683.155 38.9877 Q683.155 37.2516 682.322 36.4472 Q681.494 35.637 679.706 35.637 L678.294 35.637 M677.125 34.6764 L679.527 34.6764 Q682.038 34.6764 683.213 35.7238 Q684.388 36.7655 684.388 38.9877 Q684.388 41.2215 683.207 42.2689 Q682.027 43.3164 679.527 43.3164 L677.125 43.3164 L677.125 34.6764 Z\" fill=\"#000000\" fill-rule=\"evenodd\" fill-opacity=\"1\" /><path clip-path=\"url(#clip710)\" d=\"M 0 0 M685.505 36.8349 L686.569 36.8349 L686.569 43.3164 L685.505 43.3164 L685.505 36.8349 M685.505 34.3118 L686.569 34.3118 L686.569 35.6602 L685.505 35.6602 L685.505 34.3118 Z\" fill=\"#000000\" fill-rule=\"evenodd\" fill-opacity=\"1\" /><path clip-path=\"url(#clip710)\" d=\"M 0 0 M691.818 37.0259 L691.818 38.0329 Q691.367 37.8014 690.881 37.6856 Q690.395 37.5699 689.874 37.5699 Q689.081 37.5699 688.682 37.8129 Q688.288 38.056 688.288 38.5421 Q688.288 38.9125 688.572 39.1266 Q688.855 39.3349 689.712 39.5259 L690.076 39.6069 Q691.211 39.85 691.685 40.2956 Q692.165 40.7354 692.165 41.5282 Q692.165 42.431 691.448 42.9576 Q690.736 43.4842 689.486 43.4842 Q688.965 43.4842 688.398 43.38 Q687.837 43.2817 687.212 43.0791 L687.212 41.9796 Q687.802 42.2863 688.375 42.4426 Q688.948 42.593 689.509 42.593 Q690.262 42.593 690.667 42.3384 Q691.072 42.078 691.072 41.6092 Q691.072 41.1752 690.777 40.9437 Q690.487 40.7122 689.498 40.4981 L689.127 40.4113 Q688.138 40.203 687.698 39.7747 Q687.258 39.3407 687.258 38.5884 Q687.258 37.6741 687.906 37.1764 Q688.554 36.6787 689.747 36.6787 Q690.337 36.6787 690.858 36.7655 Q691.378 36.8523 691.818 37.0259 Z\" fill=\"#000000\" fill-rule=\"evenodd\" fill-opacity=\"1\" /><path clip-path=\"url(#clip710)\" d=\"M 0 0 M697.947 37.0838 L697.947 38.0791 Q697.495 37.8303 697.038 37.7088 Q696.587 37.5815 696.124 37.5815 Q695.088 37.5815 694.515 38.2412 Q693.942 38.8951 693.942 40.0815 Q693.942 41.2678 694.515 41.9275 Q695.088 42.5814 696.124 42.5814 Q696.587 42.5814 697.038 42.4599 Q697.495 42.3326 697.947 42.0838 L697.947 43.0675 Q697.501 43.2759 697.021 43.38 Q696.546 43.4842 696.008 43.4842 Q694.544 43.4842 693.682 42.5641 Q692.819 41.6439 692.819 40.0815 Q692.819 38.4958 693.687 37.5873 Q694.561 36.6787 696.077 36.6787 Q696.569 36.6787 697.038 36.7829 Q697.507 36.8812 697.947 37.0838 Z\" fill=\"#000000\" fill-rule=\"evenodd\" fill-opacity=\"1\" /><path clip-path=\"url(#clip710)\" d=\"M 0 0 M702.819 37.8303 Q702.64 37.7261 702.426 37.6798 Q702.218 37.6278 701.963 37.6278 Q701.06 37.6278 700.574 38.218 Q700.094 38.8025 700.094 39.9021 L700.094 43.3164 L699.023 43.3164 L699.023 36.8349 L700.094 36.8349 L700.094 37.8419 Q700.429 37.2516 700.968 36.968 Q701.506 36.6787 702.275 36.6787 Q702.385 36.6787 702.518 36.6961 Q702.652 36.7076 702.814 36.7366 L702.819 37.8303 Z\" fill=\"#000000\" fill-rule=\"evenodd\" fill-opacity=\"1\" /><path clip-path=\"url(#clip710)\" d=\"M 0 0 M709.22 39.8095 L709.22 40.3303 L704.324 40.3303 Q704.393 41.4298 704.984 42.0085 Q705.58 42.5814 706.639 42.5814 Q707.252 42.5814 707.825 42.431 Q708.404 42.2805 708.971 41.9796 L708.971 42.9865 Q708.398 43.2296 707.796 43.3569 Q707.194 43.4842 706.575 43.4842 Q705.024 43.4842 704.116 42.5814 Q703.213 41.6787 703.213 40.1393 Q703.213 38.5479 704.069 37.6162 Q704.932 36.6787 706.39 36.6787 Q707.698 36.6787 708.456 37.5236 Q709.22 38.3627 709.22 39.8095 M708.155 39.497 Q708.143 38.6231 707.663 38.1023 Q707.189 37.5815 706.402 37.5815 Q705.51 37.5815 704.972 38.0849 Q704.44 38.5884 704.359 39.5028 L708.155 39.497 Z\" fill=\"#000000\" fill-rule=\"evenodd\" fill-opacity=\"1\" /><path clip-path=\"url(#clip710)\" d=\"M 0 0 M711.39 34.9947 L711.39 36.8349 L713.583 36.8349 L713.583 37.6625 L711.39 37.6625 L711.39 41.181 Q711.39 41.9738 711.604 42.1995 Q711.824 42.4252 712.489 42.4252 L713.583 42.4252 L713.583 43.3164 L712.489 43.3164 Q711.257 43.3164 710.788 42.8592 Q710.319 42.3963 710.319 41.181 L710.319 37.6625 L709.538 37.6625 L709.538 36.8349 L710.319 36.8349 L710.319 34.9947 L711.39 34.9947 Z\" fill=\"#000000\" fill-rule=\"evenodd\" fill-opacity=\"1\" /><path clip-path=\"url(#clip710)\" d=\"M 0 0 M714.7 36.8349 L715.765 36.8349 L715.765 43.3164 L714.7 43.3164 L714.7 36.8349 M714.7 34.3118 L715.765 34.3118 L715.765 35.6602 L714.7 35.6602 L714.7 34.3118 Z\" fill=\"#000000\" fill-rule=\"evenodd\" fill-opacity=\"1\" /><path clip-path=\"url(#clip710)\" d=\"M 0 0 M716.419 36.8349 L721.477 36.8349 L721.477 37.8072 L717.472 42.4657 L721.477 42.4657 L721.477 43.3164 L716.274 43.3164 L716.274 42.3442 L720.279 37.6856 L716.419 37.6856 L716.419 36.8349 Z\" fill=\"#000000\" fill-rule=\"evenodd\" fill-opacity=\"1\" /><path clip-path=\"url(#clip710)\" d=\"M 0 0 M725.539 40.0583 Q724.249 40.0583 723.751 40.3534 Q723.253 40.6486 723.253 41.3604 Q723.253 41.9275 723.624 42.2632 Q724 42.593 724.642 42.593 Q725.528 42.593 726.06 41.968 Q726.598 41.3372 726.598 40.2956 L726.598 40.0583 L725.539 40.0583 M727.663 39.6185 L727.663 43.3164 L726.598 43.3164 L726.598 42.3326 Q726.234 42.9229 725.69 43.2064 Q725.146 43.4842 724.359 43.4842 Q723.363 43.4842 722.773 42.9287 Q722.188 42.3673 722.188 41.4298 Q722.188 40.3361 722.918 39.7805 Q723.653 39.225 725.105 39.225 L726.598 39.225 L726.598 39.1208 Q726.598 38.3859 726.112 37.9866 Q725.632 37.5815 724.758 37.5815 Q724.202 37.5815 723.676 37.7146 Q723.149 37.8477 722.663 38.1139 L722.663 37.1301 Q723.247 36.9044 723.797 36.7944 Q724.347 36.6787 724.868 36.6787 Q726.274 36.6787 726.969 37.4079 Q727.663 38.137 727.663 39.6185 Z\" fill=\"#000000\" fill-rule=\"evenodd\" fill-opacity=\"1\" /><path clip-path=\"url(#clip710)\" d=\"M 0 0 M729.833 34.9947 L729.833 36.8349 L732.026 36.8349 L732.026 37.6625 L729.833 37.6625 L729.833 41.181 Q729.833 41.9738 730.047 42.1995 Q730.267 42.4252 730.933 42.4252 L732.026 42.4252 L732.026 43.3164 L730.933 43.3164 Q729.7 43.3164 729.231 42.8592 Q728.762 42.3963 728.762 41.181 L728.762 37.6625 L727.981 37.6625 L727.981 36.8349 L728.762 36.8349 L728.762 34.9947 L729.833 34.9947 Z\" fill=\"#000000\" fill-rule=\"evenodd\" fill-opacity=\"1\" /><path clip-path=\"url(#clip710)\" d=\"M 0 0 M733.143 36.8349 L734.208 36.8349 L734.208 43.3164 L733.143 43.3164 L733.143 36.8349 M733.143 34.3118 L734.208 34.3118 L734.208 35.6602 L733.143 35.6602 L733.143 34.3118 Z\" fill=\"#000000\" fill-rule=\"evenodd\" fill-opacity=\"1\" /><path clip-path=\"url(#clip710)\" d=\"M 0 0 M737.837 37.5815 Q736.98 37.5815 736.482 38.2528 Q735.985 38.9183 735.985 40.0815 Q735.985 41.2446 736.477 41.9159 Q736.974 42.5814 737.837 42.5814 Q738.687 42.5814 739.185 41.9101 Q739.683 41.2389 739.683 40.0815 Q739.683 38.9298 739.185 38.2585 Q738.687 37.5815 737.837 37.5815 M737.837 36.6787 Q739.225 36.6787 740.018 37.5815 Q740.811 38.4842 740.811 40.0815 Q740.811 41.6729 740.018 42.5814 Q739.225 43.4842 737.837 43.4842 Q736.442 43.4842 735.649 42.5814 Q734.862 41.6729 734.862 40.0815 Q734.862 38.4842 735.649 37.5815 Q736.442 36.6787 737.837 36.6787 Z\" fill=\"#000000\" fill-rule=\"evenodd\" fill-opacity=\"1\" /><path clip-path=\"url(#clip710)\" d=\"M 0 0 M747.316 39.4044 L747.316 43.3164 L746.251 43.3164 L746.251 39.4391 Q746.251 38.519 745.892 38.0618 Q745.533 37.6046 744.816 37.6046 Q743.953 37.6046 743.456 38.1544 Q742.958 38.7041 742.958 39.6532 L742.958 43.3164 L741.887 43.3164 L741.887 36.8349 L742.958 36.8349 L742.958 37.8419 Q743.34 37.2574 743.855 36.968 Q744.376 36.6787 745.053 36.6787 Q746.17 36.6787 746.743 37.3731 Q747.316 38.0618 747.316 39.4044 Z\" fill=\"#000000\" fill-rule=\"evenodd\" fill-opacity=\"1\" /></svg>\n"
      ]
     },
     "metadata": {},
     "output_type": "display_data"
    }
   ],
   "source": [
    "plot(grids.gridA[10:150], vA_dist[10:150], label=\"Discretization\")\n",
    "plot!(size=(800,400))"
   ]
  }
 ],
 "metadata": {
  "kernelspec": {
   "display_name": "Julia 1.5.3",
   "language": "julia",
   "name": "julia-1.5"
  },
  "language_info": {
   "file_extension": ".jl",
   "mimetype": "application/julia",
   "name": "julia",
   "version": "1.5.3"
  }
 },
 "nbformat": 4,
 "nbformat_minor": 2
}
