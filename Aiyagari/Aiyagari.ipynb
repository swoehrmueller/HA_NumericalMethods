{
 "cells": [
  {
   "cell_type": "markdown",
   "metadata": {},
   "source": [
    "### Setup\n",
    "\n",
    "#### Households\n",
    "Utility $u(c)$ is CRRA <br>\n",
    "Stochastic process for (log) income is an AR(1)<br>\n",
    "Key equations:<br>\n",
    "\n",
    "\n",
    "$\\begin{align} \n",
    "% V_t(a,y) = \\max_{c, a'} &\\left\\{\\frac{c^{1-\\sigma}}{1-\\sigma} + \\beta \\sum_{y'}V_{t+1}(a', y') \\Gamma(y,y') \\right\\} \\\\\n",
    "\\tag{Euler} u_c(c) &\\geq \\beta (1+r) \\mathbb{E}[u_c(c')]  \\\\\n",
    "\\tag{Budget} c + a' &= (1 + r)a + y \\\\\n",
    "\\tag{Borrowing limit} a' &\\geq 0\n",
    "\\end{align}$\n",
    "\n",
    "#### Firms\n",
    "$\\begin{align} \\notag\n",
    "r + \\delta = \\alpha K^{\\alpha-1} L^{1-\\alpha} \\Rightarrow K &= \\left( \\frac{\\alpha}{r+\\delta} \\right)^{\\frac{1}{1-\\alpha}} L  \\\\ \\notag\n",
    "w &= (1-\\alpha) K^{\\alpha} L^{-\\alpha}\n",
    "\\end{align}$"
   ]
  },
  {
   "cell_type": "markdown",
   "metadata": {},
   "source": [
    "### Start"
   ]
  },
  {
   "cell_type": "code",
   "execution_count": 1,
   "metadata": {},
   "outputs": [],
   "source": [
    "using Parameters\n",
    "using Interpolations\n",
    "using Plots\n",
    "using Setfield"
   ]
  },
  {
   "cell_type": "code",
   "execution_count": 2,
   "metadata": {},
   "outputs": [
    {
     "data": {
      "text/plain": [
       "Grids"
      ]
     },
     "metadata": {},
     "output_type": "display_data"
    }
   ],
   "source": [
    "\n",
    "@with_kw struct ModelParameters{T} # Economic Variables\n",
    "    α :: T = 1.0/3.0\n",
    "    β :: T = 0.93\n",
    "    δ :: T = 0.1\n",
    "    γ :: T = 2.0\n",
    "end \n",
    "\n",
    "@with_kw struct EqParameters{T} # Equilibrium Variables\n",
    "    r :: T = 0.03   # interest rate\n",
    "    w :: T = 1.0    # wage\n",
    "    K :: T = ((r + m_par.δ)/(m_par.α))^(1/(m_par.α-1)) # capital\n",
    "end \n",
    "\n",
    "@with_kw struct NumericalParameters # Numerical Variables\n",
    "    na   :: Int = 200 # asset grid\n",
    "    nadist   :: Int = na*3 # asset grid\n",
    "    amin :: Float64 = 0.0 \n",
    "    amax :: Float64 = 50.0 \n",
    "    ny   :: Int = 5 # income grid\n",
    "    tol_pol :: Float64 = 1e-6\n",
    "    tol_dist :: Float64 = 1e-10\n",
    "end\n",
    "\n",
    "# Load it already here, as it is needed below\n",
    "n_par= NumericalParameters()\n",
    "\n",
    "@with_kw struct ContainerHA{T} # T= Array{Float64,1}\n",
    "    A  :: T  = zeros(n_par.na, n_par.ny) # policy function assets\n",
    "    C  :: T  = zeros(n_par.na, n_par.ny) # policy function consumption\n",
    "end\n",
    "\n",
    "@with_kw struct Grids\n",
    "    gridA :: Array{Float64,1} = zeros(n_par.na)\n",
    "    Π :: Array{Float64,2} = zeros(n_par.ny, n_par.ny)       # transition matrix income\n",
    "    gridY :: Array{Float64,1} = zeros(n_par.ny)   # income grid\n",
    "end\n"
   ]
  },
  {
   "cell_type": "markdown",
   "metadata": {},
   "source": [
    "#### HA Functions"
   ]
  },
  {
   "cell_type": "code",
   "execution_count": 56,
   "metadata": {},
   "outputs": [
    {
     "data": {
      "text/plain": [
       "density_discretization (generic function with 1 method)"
      ]
     },
     "metadata": {},
     "output_type": "display_data"
    }
   ],
   "source": [
    "function egm(r,w, m_par::ModelParameters, n_par::NumericalParameters, grids::Grids, gV_conHA::ContainerHA)\n",
    "\n",
    "    # Unpack\n",
    "    @unpack_ModelParameters m_par\n",
    "    @unpack_NumericalParameters n_par\n",
    "    @unpack_Grids grids\n",
    "    @unpack_ContainerHA gV_conHA\n",
    "\n",
    "    Ai= copy(A)\n",
    "    difference= 1000.0\n",
    "    it=0\n",
    "    Uc= zeros(na,ny)\n",
    "\n",
    "    while difference > tol_pol && it < 1000\n",
    "\n",
    "        for y in 1:ny\n",
    "            Uc[:,y]= ( (1+r).*gridA .+ w*gridY[y] .- A[:,y] ).^(-γ)\n",
    "        end\n",
    "        EUc= Uc * Π' # expectation (* is matrix multiplication)\n",
    "        RHS= β * (1+r) .* EUc # RHS of Euler\n",
    "        for y in 1:ny\n",
    "            Cendog= RHS[:,y].^(-1/γ)\n",
    "            Aendog= (gridA .+ Cendog .- w*gridY[y]) ./ (1 + r)\n",
    "            itp= LinearInterpolation(Aendog, gridA, extrapolation_bc=Line())\n",
    "            Ai[:,y]= itp.(gridA)\n",
    "        end        \n",
    "        Ai[Ai.<=amin] .= amin # set borrowing constraint\n",
    "        difference= maximum(abs.(A .- Ai))\n",
    "        A= copy(Ai)\n",
    "\n",
    "        it= it+1\n",
    "\n",
    "    end \n",
    "\n",
    "        # Back out consumption policy\n",
    "        for y in 1:ny\n",
    "            C[:,y]= (1+r).*gridA .+ w*gridY[y] .- A[:,y]\n",
    "        end\n",
    "\n",
    "    gV_conHA= ContainerHA(A=A, C=C)\n",
    "\n",
    "    # println(\"Finished EGM in iteration = \", it, \", and diff = \", difference)\n",
    "\n",
    "    return gV_conHA\n",
    "\n",
    "end\n",
    "\n",
    "function weights_and_indices(A,gridA,na,ny)\n",
    "\n",
    "    A_indices= zeros(Int, na, ny) \n",
    "    wei= zeros(Float64,na,ny) \n",
    "\n",
    "    for y in 1:ny\n",
    "        # Indices\n",
    "        A_indices[:,y] = searchsortedlast.(Ref(gridA), A[:,y])  # gives left bracket; 0 if below grid, na if above grid\n",
    "    end\n",
    "    A_indices[A_indices .== 0] .= 1\n",
    "    A_indices[A_indices .== na] .= na-1\n",
    "    for y in 1:ny\n",
    "        wei[:,y]= (A[:,y] .- [gridA[i] for i in A_indices[:,y]]) ./ ([gridA[i+1] for i in A_indices[:,y]] .- [gridA[i] for i in A_indices[:,y]])\n",
    "    end\n",
    "    # should never be binding, but just to be save\n",
    "    wei[wei.>1] .=1\n",
    "    wei[wei.<0] .=0\n",
    "\n",
    "    return wei, A_indices\n",
    "\n",
    "end\n",
    "\n",
    "\n",
    "function loop!(A_disti::Array{Float64,2},A_indices::Array{Int,2},wei::Array{Float64,2},Π::Array{Float64,2},A_dist::Array{Float64,2},na::Int,ny::Int)\n",
    "\n",
    "    @inbounds for i in 1:na\n",
    "        for s in 1:ny\n",
    "            index= A_indices[i,s]\n",
    "            lottery1= (1-wei[i,s]) * A_dist[i,s]\n",
    "            lottery2= wei[i,s]* A_dist[i,s]\n",
    "            for si in 1:ny\n",
    "                A_disti[index,si] += lottery1 * Π[s,si]\n",
    "                A_disti[index + 1,si] += lottery2 * Π[s,si] \n",
    "            end\n",
    "        end\n",
    "    end\n",
    "\n",
    "end\n",
    "\n",
    "function density_discretization(gV_conHA::ContainerHA, grids::Grids, n_par::NumericalParameters,A_dist)\n",
    "\n",
    "    # Unpack\n",
    "    @unpack_ContainerHA gV_conHA\n",
    "    @unpack_NumericalParameters n_par\n",
    "    @unpack_Grids grids\n",
    "    \n",
    "    # retrieve indices and weights for lottery\n",
    "    wei, A_indices= weights_and_indices(A, gridA, na, ny)\n",
    "\n",
    "    difference= 100.0\n",
    "    it=1\n",
    "    # iterate over discretized density to get fixed point\n",
    "    while difference > 1e-10 && it < 10000\n",
    "    \n",
    "        # always pre-allocate to zero\n",
    "        A_disti= zeros(Float64,na,ny) \n",
    "\n",
    "        loop!(A_disti,A_indices,wei,Π,A_dist,na,ny)\n",
    "\n",
    "        difference= maximum(abs.(A_disti .- A_dist))\n",
    "        A_dist= A_disti ./ sum(A_disti)\n",
    "        it= it+1\n",
    "\n",
    "    end\n",
    "\n",
    "    return A_dist\n",
    "\n",
    "end"
   ]
  },
  {
   "cell_type": "markdown",
   "metadata": {},
   "source": [
    "To save on code, I use a grid and transition matrix from Hintermaier \\& Koeniger (2010)"
   ]
  },
  {
   "cell_type": "code",
   "execution_count": 57,
   "metadata": {},
   "outputs": [],
   "source": [
    "incomeGrid= [0.09, 0.39, 0.74, 1.22, 2.57];\n",
    "transitionMatrix= [0.9854 0.0146 0 0 0; \n",
    "                    0.0045 0.8451 0.1491 0.0013 0; \n",
    "                    0 0.1359 0.6787 0.1843 0.0011; \n",
    "                    0 0.0029 0.2208 0.6963 0.0800; \n",
    "                    0 0 0.0006 0.1455 0.8539];\n",
    "\n",
    "function get_Invariant_Distribution(Π::Array{Float64,2}, n::Int; tol= 1e-12)\n",
    "\n",
    "    difference= 100.0\n",
    "\n",
    "    distr= ones(n)/n # start from uniform\n",
    "\n",
    "    while difference > tol\n",
    "        distri= Π' * distr\n",
    "        difference= maximum(abs.(distr .- distri))\n",
    "        distr= copy(distri)\n",
    "    end\n",
    "\n",
    "    return distr\n",
    "\n",
    "end\n",
    "\n",
    "stationaryDistribution= get_Invariant_Distribution(transitionMatrix, 5);"
   ]
  },
  {
   "cell_type": "markdown",
   "metadata": {},
   "source": [
    "#### Set up containers"
   ]
  },
  {
   "cell_type": "code",
   "execution_count": 58,
   "metadata": {},
   "outputs": [],
   "source": [
    "m_par= ModelParameters{Float64}()\n",
    "gV_conHA= ContainerHA{Array{Float64,2}}();\n",
    "eq_par= EqParameters();\n",
    "\n",
    "gridA= n_par.amin .+ (collect(0:n_par.na-1)./n_par.na).^2 .* (n_par.amax - n_par.amin);\n",
    "grids= Grids(gridA=gridA, Π=transitionMatrix, gridY=incomeGrid);\n"
   ]
  },
  {
   "cell_type": "markdown",
   "metadata": {},
   "source": [
    "Note that $L^{supply}$ is not equal to 1. "
   ]
  },
  {
   "cell_type": "code",
   "execution_count": 59,
   "metadata": {},
   "outputs": [
    {
     "name": "stdout",
     "output_type": "stream",
     "text": [
      "Labor supply equals = 0.9520370924645079\n"
     ]
    }
   ],
   "source": [
    "println(\"Labor supply equals = \", Lsupply)\n"
   ]
  },
  {
   "cell_type": "markdown",
   "metadata": {},
   "source": [
    "### Aiyagari loop"
   ]
  },
  {
   "cell_type": "code",
   "execution_count": 60,
   "metadata": {},
   "outputs": [
    {
     "name": "stdout",
     "output_type": "stream",
     "text": [
      "Residual on market clearing: 0.7004912149863891\n",
      "Residual on market clearing: 4.343394388151012e-6\n",
      "Residual on market clearing: 4.157175865771023e-6\n"
     ]
    }
   ],
   "source": [
    "# Guess\n",
    "Cguess= ones(n_par.na, n_par.ny) .* eq_par.r .+ gridA;\n",
    "gV_conHA= ContainerHA(C=Cguess);\n",
    "\n",
    "# Start from uniform distribution\n",
    "mA_dist= ones(n_par.na, n_par.ny) ./ (n_par.na*n_par.ny); # start from uniform\n",
    "\n",
    "# Initialize\n",
    "res= 10.0\n",
    "iteration= 0\n",
    "\n",
    "while res > 1e-6\n",
    "\n",
    "### FIRM \n",
    "# Update capital\n",
    "K = ((m_par.α)/(eq_par.r + m_par.δ))^(1/(1-m_par.α)) * Lsupply\n",
    "# Update wage\n",
    "w = (1 - m_par.α)*K^m_par.α * Lsupply^(-m_par.α)\n",
    "\n",
    "\n",
    "### HOUSEHOLDS\n",
    "# Get policy functions\n",
    "gV_conHA= egm(eq_par.r, w, m_par, n_par, grids, gV_conHA);\n",
    "# Get invariant distribution\n",
    "mA_dist= density_discretization(gV_conHA, grids, n_par, mA_dist);\n",
    "\n",
    "### Market clearing\n",
    "# Capital supply / Asset demand\n",
    "aggA = sum(gV_conHA.A .* mA_dist);\n",
    "\n",
    "# Check market clearing\n",
    "res= abs(aggA - K);\n",
    "\n",
    "if iteration % 10 == 0\n",
    "    println(\"Residual on market clearing: \", res)\n",
    "end\n",
    "\n",
    "# Update interest rate\n",
    "rnew = eq_par.r - 0.005*(aggA - K)\n",
    "eq_par= @set! eq_par.r = rnew\n",
    "iteration=iteration + 1\n",
    "\n",
    "end # end while\n",
    "\n",
    "# Update final \n",
    "eq_par = @set! eq_par.K = ((m_par.α)/(eq_par.r + m_par.δ))^(1/(1-m_par.α)) * Lsupply;\n",
    "eq_par = @set! eq_par.w = (1 - m_par.α)*eq_par.K^m_par.α * Lsupply^(-m_par.α);\n"
   ]
  },
  {
   "cell_type": "code",
   "execution_count": 63,
   "metadata": {},
   "outputs": [
    {
     "name": "stdout",
     "output_type": "stream",
     "text": [
      "Equilibrium = EqParameters{Float64}\n",
      "  r: Float64 0.025276119913335955\n",
      "  w: Float64 1.0874616911442323\n",
      "  K: Float64 4.132087852496143\n",
      "\n",
      "Goods market clearing: 1.1369152619344902e-8\n",
      "Asset market clearing: -3.987531833615776e-7\n"
     ]
    }
   ],
   "source": [
    "println(\"Equilibrium = \", eq_par)\n",
    "\n",
    "K= eq_par.K\n",
    "Y= K^m_par.α * Lsupply^(1-m_par.α)\n",
    "C= sum(gV_conHA.C .* mA_dist)\n",
    "I= m_par.δ * K\n",
    "A= sum(gV_conHA.A .* mA_dist)\n",
    "\n",
    "println(\"Goods market clearing: \", Y - C - I)\n",
    "println(\"Asset market clearing: \", A - K)\n"
   ]
  },
  {
   "cell_type": "code",
   "execution_count": 64,
   "metadata": {},
   "outputs": [
    {
     "name": "stdout",
     "output_type": "stream",
     "text": [
      "1.034798829957495e-9\n",
      "4.48412823539357e-9\n",
      "8.508345805680051e-9\n",
      "1.4027272898786691e-8\n",
      "2.9549255486926995e-8\n"
     ]
    }
   ],
   "source": [
    "# HH BC\n",
    "for y in 1:n_par.ny\n",
    "    println(minimum(abs.(gV_conHA.C[:,y] .+ gV_conHA.A[:,y] .- eq_par.w * grids.gridY[y] + (1+eq_par.r)*grids.gridA )))\n",
    "end"
   ]
  }
 ],
 "metadata": {
  "kernelspec": {
   "display_name": "Julia 1.10.4",
   "language": "julia",
   "name": "julia-1.10"
  },
  "language_info": {
   "file_extension": ".jl",
   "mimetype": "application/julia",
   "name": "julia",
   "version": "1.10.4"
  }
 },
 "nbformat": 4,
 "nbformat_minor": 2
}
